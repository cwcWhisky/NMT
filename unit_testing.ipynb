{
  "nbformat": 4,
  "nbformat_minor": 0,
  "metadata": {
    "colab": {
      "name": "unit_testing.ipynb",
      "provenance": [],
      "private_outputs": true,
      "authorship_tag": "ABX9TyPIsaMBgN0VvltGIJXep+ZC",
      "include_colab_link": true
    },
    "kernelspec": {
      "name": "python3",
      "display_name": "Python 3"
    },
    "accelerator": "GPU"
  },
  "cells": [
    {
      "cell_type": "markdown",
      "metadata": {
        "id": "view-in-github",
        "colab_type": "text"
      },
      "source": [
        "<a href=\"https://colab.research.google.com/github/markaaronslater/NMT/blob/master/unit_testing.ipynb\" target=\"_parent\"><img src=\"https://colab.research.google.com/assets/colab-badge.svg\" alt=\"Open In Colab\"/></a>"
      ]
    },
    {
      "cell_type": "code",
      "metadata": {
        "id": "W6KIv7q2KVam"
      },
      "source": [
        "# environment for running unit tests, observing model outputs, etc."
      ],
      "execution_count": null,
      "outputs": []
    },
    {
      "cell_type": "code",
      "metadata": {
        "id": "vNvi50C-Kdni"
      },
      "source": [
        "%load_ext autoreload\n",
        "%autoreload 2"
      ],
      "execution_count": null,
      "outputs": []
    },
    {
      "cell_type": "code",
      "metadata": {
        "id": "kDGBdjKWK2N1"
      },
      "source": [
        "from google.colab import drive\n",
        "drive.mount('/content/gdrive')"
      ],
      "execution_count": null,
      "outputs": []
    },
    {
      "cell_type": "code",
      "metadata": {
        "id": "FqxUSJ1EK4FI"
      },
      "source": [
        "!pip install subword-nmt # for segmenting words into subwords\n",
        "!pip install stanza # for tokenizing corpus and tagging with morphological data\n",
        "!pip install sacrebleu # for evaluation\n",
        "!git clone https://github.com/moses-smt/mosesdecoder.git # for detokenizing model outputs prior to evaluation"
      ],
      "execution_count": null,
      "outputs": []
    },
    {
      "cell_type": "code",
      "metadata": {
        "id": "X-Q3oAsiLAZv"
      },
      "source": [
        "!nvidia-smi"
      ],
      "execution_count": null,
      "outputs": []
    },
    {
      "cell_type": "code",
      "metadata": {
        "id": "vEkw_ARBLC0T"
      },
      "source": [
        "# recommended: place cloned NMT folder in Google drive folder 'My Drive':\n",
        "path = '/content/gdrive/My Drive/NMT/'\n",
        "corpus_path = path + 'corpuses/iwslt16_en_de/'\n",
        "config_path = path + 'configs/'\n",
        "data_path = path + 'data/'\n",
        "checkpoint_path = path + 'checkpoints/'\n",
        "\n",
        "model_name = 'my_model' # name of model tensor batches, hyperparameters, etc., saved as pickle file inside data_path"
      ],
      "execution_count": null,
      "outputs": []
    },
    {
      "cell_type": "code",
      "metadata": {
        "id": "8_0512TbLFUp"
      },
      "source": [
        "%cd /content/gdrive/My Drive/"
      ],
      "execution_count": null,
      "outputs": []
    },
    {
      "cell_type": "code",
      "metadata": {
        "id": "1UDUODlRLawH"
      },
      "source": [
        "from NMT.src.preprocessing.corpus_utils import read_corpuses, print_corpuses\n",
        "\n",
        "corpuses = read_corpuses(\"train.de\", \"train.en\", \"dev.de\", \"dev.en\", \"test.de\", path=corpus_path, prefix='', _start=1, num=5)\n",
        "print_corpuses(corpuses, num=5)\n"
      ],
      "execution_count": null,
      "outputs": []
    },
    {
      "cell_type": "code",
      "metadata": {
        "id": "2_W7c-1_NMXn"
      },
      "source": [
        "from NMT.src.preprocessing.apply_stanza_processors import apply_stanza_processors, retrieve_stanza_outputs\n",
        "from NMT.src.preprocessing.corpus_utils import print_processed_corpuses\n",
        "\n",
        "apply_stanza_processors(\"train.de\", \"train.en\", \"dev.de\", \"dev.en\", \"test.de\", path=corpus_path, _start=1, num=5)\n",
        "corpuses = retrieve_stanza_outputs(\"train.de\", \"train.en\", \"dev.de\", \"dev.en\", \"test.de\", path=corpus_path)\n",
        "\n",
        "print_processed_corpuses(corpuses, num=5)"
      ],
      "execution_count": null,
      "outputs": []
    },
    {
      "cell_type": "code",
      "metadata": {
        "id": "kRng63k2OMaL"
      },
      "source": [
        "from NMT.src.preprocessing.truecase import truecase_corpuses\n",
        "from NMT.src.preprocessing.corpus_utils import read_corpuses, print_corpuses\n",
        "\n",
        "truecase_corpuses(\"train.de\", \"train.en\", \"dev.de\", \"dev.en\", \"test.de\", path=corpus_path)\n",
        "corpuses = read_corpuses(\"train.de\", \"train.en\", \"dev.de\", \"dev.en\", \"test.de\", path=corpus_path, prefix='word_')\n",
        "print_corpuses(corpuses)\n",
        "\n"
      ],
      "execution_count": null,
      "outputs": []
    },
    {
      "cell_type": "code",
      "metadata": {
        "id": "mak6yGkMfinY"
      },
      "source": [
        "from NMT.src.import_configs import import_configs\n",
        "\n",
        "hyperparams = import_configs(config_path=config_path)\n",
        "for hp in hyperparams:\n",
        "  print(hyperparams[hp])"
      ],
      "execution_count": null,
      "outputs": []
    },
    {
      "cell_type": "code",
      "metadata": {
        "id": "ZAV3NAvJbbzt"
      },
      "source": [
        "!bash ./NMT/src/preprocessing/subword_joint.sh $hyperparams[\"num_merge_ops\"] $hyperparams[\"vocab_threshold\"] $corpus_path"
      ],
      "execution_count": null,
      "outputs": []
    }
  ]
}