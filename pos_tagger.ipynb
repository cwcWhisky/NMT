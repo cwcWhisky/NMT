{
  "nbformat": 4,
  "nbformat_minor": 0,
  "metadata": {
    "colab": {
      "name": "pos_tagger.ipynb",
      "provenance": [],
      "authorship_tag": "ABX9TyNxFZPIqqCe/JWutxqMGBk9",
      "include_colab_link": true
    },
    "kernelspec": {
      "name": "python3",
      "display_name": "Python 3"
    },
    "accelerator": "GPU"
  },
  "cells": [
    {
      "cell_type": "markdown",
      "metadata": {
        "id": "view-in-github",
        "colab_type": "text"
      },
      "source": [
        "<a href=\"https://colab.research.google.com/github/markaaronslater/recurrent-NMT/blob/master/pos_tagger.ipynb\" target=\"_parent\"><img src=\"https://colab.research.google.com/assets/colab-badge.svg\" alt=\"Open In Colab\"/></a>"
      ]
    },
    {
      "cell_type": "code",
      "metadata": {
        "id": "TB3WXrL3lBfO",
        "colab_type": "code",
        "colab": {
          "base_uri": "https://localhost:8080/",
          "height": 326
        },
        "outputId": "4b81a90c-8d1e-48dc-fa67-0bf2910069ec"
      },
      "source": [
        "!pip install stanza"
      ],
      "execution_count": 1,
      "outputs": [
        {
          "output_type": "stream",
          "text": [
            "Collecting stanza\n",
            "\u001b[?25l  Downloading https://files.pythonhosted.org/packages/e7/8b/3a9e7a8d8cb14ad6afffc3983b7a7322a3a24d94ebc978a70746fcffc085/stanza-1.1.1-py3-none-any.whl (227kB)\n",
            "\r\u001b[K     |█▍                              | 10kB 26.3MB/s eta 0:00:01\r\u001b[K     |██▉                             | 20kB 2.9MB/s eta 0:00:01\r\u001b[K     |████▎                           | 30kB 3.9MB/s eta 0:00:01\r\u001b[K     |█████▊                          | 40kB 4.2MB/s eta 0:00:01\r\u001b[K     |███████▏                        | 51kB 3.4MB/s eta 0:00:01\r\u001b[K     |████████▋                       | 61kB 3.8MB/s eta 0:00:01\r\u001b[K     |██████████                      | 71kB 4.1MB/s eta 0:00:01\r\u001b[K     |███████████▌                    | 81kB 4.5MB/s eta 0:00:01\r\u001b[K     |█████████████                   | 92kB 4.8MB/s eta 0:00:01\r\u001b[K     |██████████████▍                 | 102kB 4.5MB/s eta 0:00:01\r\u001b[K     |███████████████▉                | 112kB 4.5MB/s eta 0:00:01\r\u001b[K     |█████████████████▎              | 122kB 4.5MB/s eta 0:00:01\r\u001b[K     |██████████████████▊             | 133kB 4.5MB/s eta 0:00:01\r\u001b[K     |████████████████████▏           | 143kB 4.5MB/s eta 0:00:01\r\u001b[K     |█████████████████████▋          | 153kB 4.5MB/s eta 0:00:01\r\u001b[K     |███████████████████████         | 163kB 4.5MB/s eta 0:00:01\r\u001b[K     |████████████████████████▌       | 174kB 4.5MB/s eta 0:00:01\r\u001b[K     |██████████████████████████      | 184kB 4.5MB/s eta 0:00:01\r\u001b[K     |███████████████████████████▍    | 194kB 4.5MB/s eta 0:00:01\r\u001b[K     |████████████████████████████▉   | 204kB 4.5MB/s eta 0:00:01\r\u001b[K     |██████████████████████████████▎ | 215kB 4.5MB/s eta 0:00:01\r\u001b[K     |███████████████████████████████▊| 225kB 4.5MB/s eta 0:00:01\r\u001b[K     |████████████████████████████████| 235kB 4.5MB/s \n",
            "\u001b[?25hRequirement already satisfied: numpy in /usr/local/lib/python3.6/dist-packages (from stanza) (1.18.5)\n",
            "Requirement already satisfied: tqdm in /usr/local/lib/python3.6/dist-packages (from stanza) (4.41.1)\n",
            "Requirement already satisfied: protobuf in /usr/local/lib/python3.6/dist-packages (from stanza) (3.12.4)\n",
            "Requirement already satisfied: requests in /usr/local/lib/python3.6/dist-packages (from stanza) (2.23.0)\n",
            "Requirement already satisfied: torch>=1.3.0 in /usr/local/lib/python3.6/dist-packages (from stanza) (1.6.0+cu101)\n",
            "Requirement already satisfied: six>=1.9 in /usr/local/lib/python3.6/dist-packages (from protobuf->stanza) (1.15.0)\n",
            "Requirement already satisfied: setuptools in /usr/local/lib/python3.6/dist-packages (from protobuf->stanza) (49.6.0)\n",
            "Requirement already satisfied: chardet<4,>=3.0.2 in /usr/local/lib/python3.6/dist-packages (from requests->stanza) (3.0.4)\n",
            "Requirement already satisfied: certifi>=2017.4.17 in /usr/local/lib/python3.6/dist-packages (from requests->stanza) (2020.6.20)\n",
            "Requirement already satisfied: urllib3!=1.25.0,!=1.25.1,<1.26,>=1.21.1 in /usr/local/lib/python3.6/dist-packages (from requests->stanza) (1.24.3)\n",
            "Requirement already satisfied: idna<3,>=2.5 in /usr/local/lib/python3.6/dist-packages (from requests->stanza) (2.10)\n",
            "Requirement already satisfied: future in /usr/local/lib/python3.6/dist-packages (from torch>=1.3.0->stanza) (0.16.0)\n",
            "Installing collected packages: stanza\n",
            "Successfully installed stanza-1.1.1\n"
          ],
          "name": "stdout"
        }
      ]
    },
    {
      "cell_type": "code",
      "metadata": {
        "id": "day454Z9N6Jc",
        "colab_type": "code",
        "colab": {}
      },
      "source": [
        "%load_ext autoreload\n",
        "%autoreload 2"
      ],
      "execution_count": 2,
      "outputs": []
    },
    {
      "cell_type": "code",
      "metadata": {
        "id": "rrFJ8rLfOCEH",
        "colab_type": "code",
        "colab": {}
      },
      "source": [
        "from pos_tags import *\n",
        "from preprocess import *\n"
      ],
      "execution_count": 46,
      "outputs": []
    },
    {
      "cell_type": "code",
      "metadata": {
        "id": "s3XyJcb7lLEO",
        "colab_type": "code",
        "colab": {
          "base_uri": "https://localhost:8080/",
          "height": 632
        },
        "outputId": "6af5fec0-86ee-474c-a28a-38c920f14c2d"
      },
      "source": [
        "import stanza\n",
        "\n",
        "stanza.download('de')\n",
        "stanza.download('en')\n",
        "\n",
        "src_processor = stanza.Pipeline(lang='de', processors='tokenize,mwt,pos')\n",
        "trg_processor = stanza.Pipeline(lang='en', processors='tokenize,mwt,pos')\n"
      ],
      "execution_count": 5,
      "outputs": [
        {
          "output_type": "stream",
          "text": [
            "Downloading https://raw.githubusercontent.com/stanfordnlp/stanza-resources/master/resources_1.1.0.json: 122kB [00:00, 18.1MB/s]                    \n",
            "2020-09-07 22:56:03 INFO: Downloading default packages for language: de (German)...\n",
            "Downloading http://nlp.stanford.edu/software/stanza/1.1.0/de/default.zip: 100%|██████████| 607M/607M [01:00<00:00, 10.0MB/s]\n",
            "2020-09-07 22:57:11 INFO: Finished downloading models and saved to /root/stanza_resources.\n",
            "Downloading https://raw.githubusercontent.com/stanfordnlp/stanza-resources/master/resources_1.1.0.json: 122kB [00:00, 16.3MB/s]                    \n",
            "2020-09-07 22:57:11 INFO: Downloading default packages for language: en (English)...\n",
            "Downloading http://nlp.stanford.edu/software/stanza/1.1.0/en/default.zip: 100%|██████████| 428M/428M [00:27<00:00, 15.8MB/s]\n",
            "2020-09-07 22:57:45 INFO: Finished downloading models and saved to /root/stanza_resources.\n",
            "2020-09-07 22:57:45 INFO: Loading these models for language: de (German):\n",
            "=======================\n",
            "| Processor | Package |\n",
            "-----------------------\n",
            "| tokenize  | gsd     |\n",
            "| mwt       | gsd     |\n",
            "| pos       | gsd     |\n",
            "=======================\n",
            "\n",
            "2020-09-07 22:57:45 INFO: Use device: gpu\n",
            "2020-09-07 22:57:45 INFO: Loading: tokenize\n",
            "2020-09-07 22:57:55 INFO: Loading: mwt\n",
            "2020-09-07 22:57:55 INFO: Loading: pos\n",
            "2020-09-07 22:57:56 INFO: Done loading processors!\n",
            "2020-09-07 22:57:56 WARNING: Can not find mwt: default from official model list. Ignoring it.\n",
            "2020-09-07 22:57:56 INFO: Loading these models for language: en (English):\n",
            "=======================\n",
            "| Processor | Package |\n",
            "-----------------------\n",
            "| tokenize  | ewt     |\n",
            "| pos       | ewt     |\n",
            "=======================\n",
            "\n",
            "2020-09-07 22:57:56 INFO: Use device: gpu\n",
            "2020-09-07 22:57:56 INFO: Loading: tokenize\n",
            "2020-09-07 22:57:56 INFO: Loading: pos\n",
            "2020-09-07 22:57:57 INFO: Done loading processors!\n"
          ],
          "name": "stderr"
        }
      ]
    },
    {
      "cell_type": "code",
      "metadata": {
        "id": "fpz2GSoUmCCG",
        "colab_type": "code",
        "colab": {
          "base_uri": "https://localhost:8080/",
          "height": 122
        },
        "outputId": "97d261a8-2f58-4d75-80ef-faa81f274921"
      },
      "source": [
        "from google.colab import drive\n",
        "drive.mount('/content/gdrive')"
      ],
      "execution_count": 6,
      "outputs": [
        {
          "output_type": "stream",
          "text": [
            "Go to this URL in a browser: https://accounts.google.com/o/oauth2/auth?client_id=947318989803-6bn6qk8qdgf4n4g3pfee6491hc0brc4i.apps.googleusercontent.com&redirect_uri=urn%3aietf%3awg%3aoauth%3a2.0%3aoob&scope=email%20https%3a%2f%2fwww.googleapis.com%2fauth%2fdocs.test%20https%3a%2f%2fwww.googleapis.com%2fauth%2fdrive%20https%3a%2f%2fwww.googleapis.com%2fauth%2fdrive.photos.readonly%20https%3a%2f%2fwww.googleapis.com%2fauth%2fpeopleapi.readonly&response_type=code\n",
            "\n",
            "Enter your authorization code:\n",
            "··········\n",
            "Mounted at /content/gdrive\n"
          ],
          "name": "stdout"
        }
      ]
    },
    {
      "cell_type": "code",
      "metadata": {
        "id": "BV2iliAYm3BG",
        "colab_type": "code",
        "colab": {}
      },
      "source": [
        "path = '/content/gdrive/My Drive/iwslt16_en_de/'"
      ],
      "execution_count": 7,
      "outputs": []
    },
    {
      "cell_type": "code",
      "metadata": {
        "id": "4lxExdtKHwMF",
        "colab_type": "code",
        "colab": {}
      },
      "source": [
        "#load_docs2(path, all_corpuses)\n",
        "#load_docs2(path, all_corpuses, num=5)\n",
        "corpuses = load_docs3(path, \"train.de\", \"train.en\", \"dev.de\", \"dev.en\", \"test.de\", num=5)"
      ],
      "execution_count": 29,
      "outputs": []
    },
    {
      "cell_type": "code",
      "metadata": {
        "id": "U6PzKoF8L_SZ",
        "colab_type": "code",
        "colab": {
          "base_uri": "https://localhost:8080/",
          "height": 547
        },
        "outputId": "275b61bf-ba8c-49bf-d846-40f710c7c5a9"
      },
      "source": [
        "#print_corpuses2(all_corpuses, num=10)\n",
        "print_corpuses(corpuses, num=5)"
      ],
      "execution_count": 30,
      "outputs": [
        {
          "output_type": "stream",
          "text": [
            "David Gallo: Das ist Bill Lange. Ich bin Dave Gallo.\n",
            "Wir werden Ihnen einige Geschichten über das Meer in Videoform erzählen.\n",
            "Wir haben ein paar der unglaublichsten Aufnahmen der Titanic, die man je gesehen hat,, und wir werden Ihnen nichts davon zeigen.\n",
            "Die Wahrheit ist, dass die Titanic – obwohl sie alle Kinokassenrekorde bricht – nicht gerade die aufregendste Geschichte vom Meer ist.\n",
            "Ich denke, das Problem ist, dass wir das Meer für zu selbstverständlich halten.\n",
            "\n",
            "David Gallo: This is Bill Lange. I'm Dave Gallo.\n",
            "And we're going to tell you some stories from the sea here in video.\n",
            "We've got some of the most incredible video of Titanic that's ever been seen, and we're not going to show you any of it.\n",
            "The truth of the matter is that the Titanic -- even though it's breaking all sorts of box office records -- it's not the most exciting story from the sea.\n",
            "And the problem, I think, is that we take the ocean for granted.\n",
            "\n",
            "Als ich in meinen 20ern war, hatte ich meine erste Psychotherapie-Patientin.\n",
            "Ich war Doktorandin und studierte Klinische Psychologie in Berkeley.\n",
            "Sie war eine 26-jährige Frau namens Alex.\n",
            "Als Alex in die erste Sitzung kam, trug sie Jeans und ein ausgebeultes Top. Sie fiel auf das Sofa in meinem Büro, schleuderte ihre Sandalen von sich und erzählte mir, sie wäre da, um über Männerprobleme zu reden.\n",
            "Und als ich das hörte, war ich erleichtert.\n",
            "\n",
            "When I was in my 20s, I saw my very first psychotherapy client.\n",
            "I was a Ph.D. student in clinical psychology at Berkeley.\n",
            "She was a 26-year-old woman named Alex.\n",
            "Now Alex walked into her first session wearing jeans and a big slouchy top, and she dropped onto the couch in my office and kicked off her flats and told me she was there to talk about guy problems.\n",
            "Now when I heard this, I was so relieved.\n",
            "\n",
            "Mein Ziel in diesem Video und dem nächsten ist es,  \n",
            "einen Eindruck von der Größe der Erde (wirklich nur der Erde)  \n",
            "und des Sonnensystems zu vermitteln. Und wie wir sehen werden,  \n",
            "wenn wir uns die Galaxie und das Universum vornehmen,  \n",
            "wird es fast unmöglich sich das alles vorzustellen.  \n",
            "\n"
          ],
          "name": "stdout"
        }
      ]
    },
    {
      "cell_type": "code",
      "metadata": {
        "id": "F5_xG_PF1dE-",
        "colab_type": "code",
        "colab": {
          "base_uri": "https://localhost:8080/",
          "height": 34
        },
        "outputId": "e31f0bd9-5c32-474a-acca-098f3127a06a"
      },
      "source": [
        "lengths = corpus_lengths(corpuses)\n",
        "print(lengths)"
      ],
      "execution_count": 23,
      "outputs": [
        {
          "output_type": "stream",
          "text": [
            "{'train.de': 12, 'train.en': 12, 'dev.de': 12, 'dev.en': 12, 'test.de': 12}\n"
          ],
          "name": "stdout"
        }
      ]
    },
    {
      "cell_type": "code",
      "metadata": {
        "id": "-xzqV7J08kL9",
        "colab_type": "code",
        "colab": {}
      },
      "source": [
        "lookup_tables = create_lookup_tables(all_corpuses)"
      ],
      "execution_count": 67,
      "outputs": []
    },
    {
      "cell_type": "code",
      "metadata": {
        "id": "dNhusEdQ8oVC",
        "colab_type": "code",
        "colab": {
          "base_uri": "https://localhost:8080/",
          "height": 122
        },
        "outputId": "58c90a53-5bfb-450c-f00b-827b35668c86"
      },
      "source": [
        "trg_train_to_line = lookup_tables[\"sent_to_line\"][\"train.en\"]\n",
        "i = 0\n",
        "for sent in trg_train_to_line:\n",
        "  if i == 5:\n",
        "    break\n",
        "  print(sent, trg_train_to_line[sent])\n",
        "  i += 1\n",
        "\n",
        "\n"
      ],
      "execution_count": 43,
      "outputs": [
        {
          "output_type": "stream",
          "text": [
            "David Gallo: This is Bill Lange. I'm Dave Gallo. 1\n",
            "And we're going to tell you some stories from the sea here in video. 2\n",
            "We've got some of the most incredible video of Titanic that's ever been seen, and we're not going to show you any of it. 3\n",
            "The truth of the matter is that the Titanic -- even though it's breaking all sorts of box office records -- it's not the most exciting story from the sea. 4\n",
            "And the problem, I think, is that we take the ocean for granted. 5\n"
          ],
          "name": "stdout"
        }
      ]
    },
    {
      "cell_type": "code",
      "metadata": {
        "id": "XeplfpIGDEee",
        "colab_type": "code",
        "colab": {
          "base_uri": "https://localhost:8080/",
          "height": 68
        },
        "outputId": "36b512c5-f9fb-4287-be78-5935abbc8e37"
      },
      "source": [
        "for line in get_sentences(lookup_tables, \"dev.de\", line_nums=[5,6,7]):\n",
        "  print(line)"
      ],
      "execution_count": 68,
      "outputs": [
        {
          "output_type": "stream",
          "text": [
            "Und als ich das hörte, war ich erleichtert.\n",
            "Meine Kommilitonin bekam nämlich einen Brandstifter als ersten Patienten.\n",
            "Und ich bekam eine Frau in den 20ern, die über Jungs reden wollte.\n"
          ],
          "name": "stdout"
        }
      ]
    },
    {
      "cell_type": "code",
      "metadata": {
        "id": "y8Gho6XkEDYZ",
        "colab_type": "code",
        "colab": {
          "base_uri": "https://localhost:8080/",
          "height": 68
        },
        "outputId": "4637ea27-5f18-4078-e9d1-94b6e9d920ac"
      },
      "source": [
        "sentences = ['Now when I heard this, I was so relieved.', 'I was a Ph.D. student in clinical psychology at Berkeley.', 'My classmate got an arsonist for her first client.']\n",
        "for num in get_line_nums(lookup_tables, \"dev.en\", sentences):\n",
        "  print(num)"
      ],
      "execution_count": 69,
      "outputs": [
        {
          "output_type": "stream",
          "text": [
            "5\n",
            "2\n",
            "6\n"
          ],
          "name": "stdout"
        }
      ]
    },
    {
      "cell_type": "code",
      "metadata": {
        "id": "bI8hFxNqF-oX",
        "colab_type": "code",
        "colab": {
          "base_uri": "https://localhost:8080/",
          "height": 68
        },
        "outputId": "7891f5a3-e510-462a-fc80-f795cc8884e6"
      },
      "source": [
        "sentences = ['Now when I heard this, I was so relieved.', 'I was a Ph.D. student in clinical psychology at Berkeley.', 'My classmate got an arsonist for her first client.']\n",
        "for partner in get_partners(lookup_tables, \"dev.en\", sentences):\n",
        "  print(partner)"
      ],
      "execution_count": 70,
      "outputs": [
        {
          "output_type": "stream",
          "text": [
            "Und als ich das hörte, war ich erleichtert.\n",
            "Ich war Doktorandin und studierte Klinische Psychologie in Berkeley.\n",
            "Meine Kommilitonin bekam nämlich einen Brandstifter als ersten Patienten.\n"
          ],
          "name": "stdout"
        }
      ]
    },
    {
      "cell_type": "code",
      "metadata": {
        "id": "q8cyBBkaKx0g",
        "colab_type": "code",
        "colab": {
          "base_uri": "https://localhost:8080/",
          "height": 51
        },
        "outputId": "9e868446-ebee-4629-d859-e2e1807a50e8"
      },
      "source": [
        "sentences = ['Es ist mir egal, ob es Mountainbike ist, oder ein Buch zu lesen, oder ein Spiel zu Spielen,', 'entdecken Sie es neu. Weil Sie die Führungspersönlichkeiten sind, die Innovationsanführer sind, die Master der Ideen sind.']\n",
        "for partner in get_partners(lookup_tables, \"train.de\", sentences):\n",
        "  print(partner)\n"
      ],
      "execution_count": 71,
      "outputs": [
        {
          "output_type": "stream",
          "text": [
            "I don't care if it's mountain biking or reading a book or playing a game.\n",
            "Rediscover that because you're the leaders, the innovation leaders, the thought leaders.\n"
          ],
          "name": "stdout"
        }
      ]
    },
    {
      "cell_type": "code",
      "metadata": {
        "id": "7tsbIthOHtZW",
        "colab_type": "code",
        "colab": {
          "base_uri": "https://localhost:8080/",
          "height": 816
        },
        "outputId": "246b5a7a-f123-46d0-8eb2-eb3a5a9a34b6"
      },
      "source": [
        "\n",
        "#process_corpuses(all_corpuses, src_processor, trg_processor)\n",
        "#process_corpuses(all_corpuses, src_processor, trg_processor, print_every=100)\n",
        "\n",
        "#process_corpuses(all_corpuses, src_processor, trg_processor, num=5)\n",
        "process_corpuses(corpuses, src_processor, trg_processor, piece_size=2)"
      ],
      "execution_count": 36,
      "outputs": [
        {
          "output_type": "stream",
          "text": [
            "pieces: {'train.de': 3, 'train.en': 3, 'dev.de': 3, 'dev.en': 3, 'test.de': 3}\n",
            "\n",
            "processing piece 1 of train.de...\n",
            "saved to /content/gdrive/My Drive/iwslt16_en_de/processed_train.de_1\n",
            "\n",
            "processing piece 2 of train.de...\n",
            "saved to /content/gdrive/My Drive/iwslt16_en_de/processed_train.de_2\n",
            "\n",
            "processing piece 3 of train.de...\n",
            "saved to /content/gdrive/My Drive/iwslt16_en_de/processed_train.de_3\n",
            "\n",
            "processing piece 1 of train.en...\n",
            "saved to /content/gdrive/My Drive/iwslt16_en_de/processed_train.en_1\n",
            "\n",
            "processing piece 2 of train.en...\n",
            "saved to /content/gdrive/My Drive/iwslt16_en_de/processed_train.en_2\n",
            "\n",
            "processing piece 3 of train.en...\n",
            "saved to /content/gdrive/My Drive/iwslt16_en_de/processed_train.en_3\n",
            "\n",
            "processing piece 1 of dev.de...\n",
            "saved to /content/gdrive/My Drive/iwslt16_en_de/processed_dev.de_1\n",
            "\n",
            "processing piece 2 of dev.de...\n",
            "saved to /content/gdrive/My Drive/iwslt16_en_de/processed_dev.de_2\n",
            "\n",
            "processing piece 3 of dev.de...\n",
            "saved to /content/gdrive/My Drive/iwslt16_en_de/processed_dev.de_3\n",
            "\n",
            "processing piece 1 of dev.en...\n",
            "saved to /content/gdrive/My Drive/iwslt16_en_de/processed_dev.en_1\n",
            "\n",
            "processing piece 2 of dev.en...\n",
            "saved to /content/gdrive/My Drive/iwslt16_en_de/processed_dev.en_2\n",
            "\n",
            "processing piece 3 of dev.en...\n",
            "saved to /content/gdrive/My Drive/iwslt16_en_de/processed_dev.en_3\n",
            "\n",
            "processing piece 1 of test.de...\n",
            "saved to /content/gdrive/My Drive/iwslt16_en_de/processed_test.de_1\n",
            "\n",
            "processing piece 2 of test.de...\n",
            "saved to /content/gdrive/My Drive/iwslt16_en_de/processed_test.de_2\n",
            "\n",
            "processing piece 3 of test.de...\n",
            "saved to /content/gdrive/My Drive/iwslt16_en_de/processed_test.de_3\n",
            "\n"
          ],
          "name": "stdout"
        }
      ]
    },
    {
      "cell_type": "code",
      "metadata": {
        "id": "gZR9RezP0dTE",
        "colab_type": "code",
        "colab": {
          "base_uri": "https://localhost:8080/",
          "height": 51
        },
        "outputId": "91c4d09f-f129-4a81-c403-5266edfa5645"
      },
      "source": [
        "processed_corpuses = get_processed_corpuses(\"train.de\", \"train.en\", \"dev.de\", \"dev.en\", \"test.de\")"
      ],
      "execution_count": 37,
      "outputs": [
        {
          "output_type": "stream",
          "text": [
            "pieces: {'train.de': 3, 'train.en': 3, 'dev.de': 3, 'dev.en': 3, 'test.de': 3}\n",
            "\n"
          ],
          "name": "stdout"
        }
      ]
    },
    {
      "cell_type": "code",
      "metadata": {
        "id": "t4zRSOEX_2W0",
        "colab_type": "code",
        "colab": {}
      },
      "source": [
        "print(processed_corpuses)"
      ],
      "execution_count": null,
      "outputs": []
    },
    {
      "cell_type": "code",
      "metadata": {
        "id": "ESI1JiwH_4lT",
        "colab_type": "code",
        "colab": {}
      },
      "source": [
        ""
      ],
      "execution_count": null,
      "outputs": []
    },
    {
      "cell_type": "code",
      "metadata": {
        "id": "4YK0AcoqKy5N",
        "colab_type": "code",
        "colab": {
          "base_uri": "https://localhost:8080/",
          "height": 1000
        },
        "outputId": "ad57eb8f-6cc6-4e14-82e2-68c21fc2cee0"
      },
      "source": [
        "print_processed_corpuses(processed_corpuses, num=12)"
      ],
      "execution_count": 38,
      "outputs": [
        {
          "output_type": "stream",
          "text": [
            "word: David\t\tupos: PROPN\txpos: NE\n",
            "word: Gallo\t\tupos: PROPN\txpos: NE\n",
            "word: :\t\tupos: PUNCT\txpos: $.\n",
            "word: Das\t\tupos: PRON\txpos: PDS\n",
            "word: ist\t\tupos: AUX\txpos: VAFIN\n",
            "word: Bill\t\tupos: PROPN\txpos: NE\n",
            "word: Lange\t\tupos: PROPN\txpos: NE\n",
            "word: .\t\tupos: PUNCT\txpos: $.\n",
            "########################################\n",
            "word: Ich\t\tupos: PRON\txpos: PPER\n",
            "word: bin\t\tupos: AUX\txpos: VAFIN\n",
            "word: Dave\t\tupos: PROPN\txpos: NE\n",
            "word: Gallo\t\tupos: PROPN\txpos: NE\n",
            "word: .\t\tupos: PUNCT\txpos: $.\n",
            "########################################\n",
            "\n",
            "\n",
            "\n",
            "word: Wir\t\tupos: PRON\txpos: PPER\n",
            "word: werden\t\tupos: AUX\txpos: VAFIN\n",
            "word: Ihnen\t\tupos: PRON\txpos: PPER\n",
            "word: einige\t\tupos: PRON\txpos: PIAT\n",
            "word: Geschichten\t\tupos: NOUN\txpos: NN\n",
            "word: über\t\tupos: ADP\txpos: APPR\n",
            "word: das\t\tupos: DET\txpos: ART\n",
            "word: Meer\t\tupos: NOUN\txpos: NN\n",
            "word: in\t\tupos: ADP\txpos: APPR\n",
            "word: Videoform\t\tupos: NOUN\txpos: NN\n",
            "word: erzählen\t\tupos: VERB\txpos: VVINF\n",
            "word: .\t\tupos: PUNCT\txpos: $.\n",
            "########################################\n",
            "\n",
            "\n",
            "\n",
            "word: Wir\t\tupos: PRON\txpos: PPER\n",
            "word: haben\t\tupos: VERB\txpos: VAFIN\n",
            "word: ein\t\tupos: DET\txpos: ART\n",
            "word: paar\t\tupos: PRON\txpos: PIS\n",
            "word: der\t\tupos: DET\txpos: ART\n",
            "word: unglaublichsten\t\tupos: ADJ\txpos: ADJA\n",
            "word: Aufnahmen\t\tupos: NOUN\txpos: NN\n",
            "word: der\t\tupos: DET\txpos: ART\n",
            "word: Titanic\t\tupos: PROPN\txpos: NE\n",
            "word: ,\t\tupos: PUNCT\txpos: $,\n",
            "word: die\t\tupos: PRON\txpos: PRELS\n",
            "word: man\t\tupos: PRON\txpos: PIS\n",
            "word: je\t\tupos: ADV\txpos: ADV\n",
            "word: gesehen\t\tupos: VERB\txpos: VVPP\n",
            "word: hat\t\tupos: AUX\txpos: VAFIN\n",
            "word: ,\t\tupos: PUNCT\txpos: $,\n",
            "word: ,\t\tupos: PUNCT\txpos: $,\n",
            "word: und\t\tupos: CCONJ\txpos: KON\n",
            "word: wir\t\tupos: PRON\txpos: PPER\n",
            "word: werden\t\tupos: AUX\txpos: VAFIN\n",
            "word: Ihnen\t\tupos: PRON\txpos: PPER\n",
            "word: nichts\t\tupos: PRON\txpos: PIS\n",
            "word: davon\t\tupos: ADV\txpos: PAV\n",
            "word: zeigen\t\tupos: VERB\txpos: VVINF\n",
            "word: .\t\tupos: PUNCT\txpos: $.\n",
            "########################################\n",
            "\n",
            "\n",
            "\n",
            "word: Die\t\tupos: DET\txpos: ART\n",
            "word: Wahrheit\t\tupos: NOUN\txpos: NN\n",
            "word: ist\t\tupos: AUX\txpos: VAFIN\n",
            "word: ,\t\tupos: PUNCT\txpos: $,\n",
            "word: dass\t\tupos: SCONJ\txpos: KOUS\n",
            "word: die\t\tupos: DET\txpos: ART\n",
            "word: Titanic\t\tupos: PROPN\txpos: NE\n",
            "word: –\t\tupos: PUNCT\txpos: $,\n",
            "word: obwohl\t\tupos: SCONJ\txpos: KOUS\n",
            "word: sie\t\tupos: PRON\txpos: PPER\n",
            "word: alle\t\tupos: PRON\txpos: PIAT\n",
            "word: Kinokassenrekorde\t\tupos: NOUN\txpos: NN\n",
            "word: bricht\t\tupos: VERB\txpos: VVFIN\n",
            "word: –\t\tupos: PUNCT\txpos: $,\n",
            "word: nicht\t\tupos: PART\txpos: PTKNEG\n",
            "word: gerade\t\tupos: ADV\txpos: ADV\n",
            "word: die\t\tupos: DET\txpos: ART\n",
            "word: aufregendste\t\tupos: ADJ\txpos: ADJA\n",
            "word: Geschichte\t\tupos: NOUN\txpos: NN\n",
            "word: von\t\tupos: ADP\txpos: APPR\n",
            "word: dem\t\tupos: DET\txpos: ART\n",
            "word: Meer\t\tupos: NOUN\txpos: NN\n",
            "word: ist\t\tupos: AUX\txpos: VAFIN\n",
            "word: .\t\tupos: PUNCT\txpos: $.\n",
            "########################################\n",
            "\n",
            "\n",
            "\n",
            "word: Ich\t\tupos: PRON\txpos: PPER\n",
            "word: denke\t\tupos: VERB\txpos: VVFIN\n",
            "word: ,\t\tupos: PUNCT\txpos: $,\n",
            "word: das\t\tupos: DET\txpos: ART\n",
            "word: Problem\t\tupos: NOUN\txpos: NN\n",
            "word: ist\t\tupos: AUX\txpos: VAFIN\n",
            "word: ,\t\tupos: PUNCT\txpos: $,\n",
            "word: dass\t\tupos: SCONJ\txpos: KOUS\n",
            "word: wir\t\tupos: PRON\txpos: PPER\n",
            "word: das\t\tupos: DET\txpos: ART\n",
            "word: Meer\t\tupos: NOUN\txpos: NN\n",
            "word: für\t\tupos: ADP\txpos: APPR\n",
            "word: zu\t\tupos: ADV\txpos: PTKA\n",
            "word: selbstverständlich\t\tupos: ADV\txpos: ADJD\n",
            "word: halten\t\tupos: VERB\txpos: VVFIN\n",
            "word: .\t\tupos: PUNCT\txpos: $.\n",
            "########################################\n",
            "\n",
            "\n",
            "\n",
            "word: David\t\tupos: PROPN\txpos: NNP\n",
            "word: Gallo\t\tupos: PROPN\txpos: NNP\n",
            "word: :\t\tupos: PUNCT\txpos: :\n",
            "########################################\n",
            "word: This\t\tupos: PRON\txpos: DT\n",
            "word: is\t\tupos: AUX\txpos: VBZ\n",
            "word: Bill\t\tupos: PROPN\txpos: NNP\n",
            "word: Lange\t\tupos: PROPN\txpos: NNP\n",
            "word: .\t\tupos: PUNCT\txpos: .\n",
            "########################################\n",
            "word: I\t\tupos: PRON\txpos: PRP\n",
            "word: 'm\t\tupos: AUX\txpos: VBP\n",
            "word: Dave\t\tupos: PROPN\txpos: NNP\n",
            "word: Gallo\t\tupos: PROPN\txpos: NNP\n",
            "word: .\t\tupos: PUNCT\txpos: .\n",
            "########################################\n",
            "\n",
            "\n",
            "\n",
            "word: And\t\tupos: CCONJ\txpos: CC\n",
            "word: we\t\tupos: PRON\txpos: PRP\n",
            "word: 're\t\tupos: AUX\txpos: VBP\n",
            "word: going\t\tupos: VERB\txpos: VBG\n",
            "word: to\t\tupos: PART\txpos: TO\n",
            "word: tell\t\tupos: VERB\txpos: VB\n",
            "word: you\t\tupos: PRON\txpos: PRP\n",
            "word: some\t\tupos: DET\txpos: DT\n",
            "word: stories\t\tupos: NOUN\txpos: NNS\n",
            "word: from\t\tupos: ADP\txpos: IN\n",
            "word: the\t\tupos: DET\txpos: DT\n",
            "word: sea\t\tupos: NOUN\txpos: NN\n",
            "word: here\t\tupos: ADV\txpos: RB\n",
            "word: in\t\tupos: ADP\txpos: IN\n",
            "word: video\t\tupos: NOUN\txpos: NN\n",
            "word: .\t\tupos: PUNCT\txpos: .\n",
            "########################################\n",
            "\n",
            "\n",
            "\n",
            "word: We\t\tupos: PRON\txpos: PRP\n",
            "word: 've\t\tupos: AUX\txpos: VBP\n",
            "word: got\t\tupos: VERB\txpos: VBN\n",
            "word: some\t\tupos: DET\txpos: DT\n",
            "word: of\t\tupos: ADP\txpos: IN\n",
            "word: the\t\tupos: DET\txpos: DT\n",
            "word: most\t\tupos: ADV\txpos: RBS\n",
            "word: incredible\t\tupos: ADJ\txpos: JJ\n",
            "word: video\t\tupos: NOUN\txpos: NN\n",
            "word: of\t\tupos: ADP\txpos: IN\n",
            "word: Titanic\t\tupos: PROPN\txpos: NNP\n",
            "word: that\t\tupos: PRON\txpos: WDT\n",
            "word: 's\t\tupos: AUX\txpos: VBZ\n",
            "word: ever\t\tupos: ADV\txpos: RB\n",
            "word: been\t\tupos: AUX\txpos: VBN\n",
            "word: seen\t\tupos: VERB\txpos: VBN\n",
            "word: ,\t\tupos: PUNCT\txpos: ,\n",
            "word: and\t\tupos: CCONJ\txpos: CC\n",
            "word: we\t\tupos: PRON\txpos: PRP\n",
            "word: 're\t\tupos: AUX\txpos: VBP\n",
            "word: not\t\tupos: PART\txpos: RB\n",
            "word: going\t\tupos: VERB\txpos: VBG\n",
            "word: to\t\tupos: PART\txpos: TO\n",
            "word: show\t\tupos: VERB\txpos: VB\n",
            "word: you\t\tupos: PRON\txpos: PRP\n",
            "word: any\t\tupos: DET\txpos: DT\n",
            "word: of\t\tupos: ADP\txpos: IN\n",
            "word: it\t\tupos: PRON\txpos: PRP\n",
            "word: .\t\tupos: PUNCT\txpos: .\n",
            "########################################\n",
            "\n",
            "\n",
            "\n",
            "word: The\t\tupos: DET\txpos: DT\n",
            "word: truth\t\tupos: NOUN\txpos: NN\n",
            "word: of\t\tupos: ADP\txpos: IN\n",
            "word: the\t\tupos: DET\txpos: DT\n",
            "word: matter\t\tupos: NOUN\txpos: NN\n",
            "word: is\t\tupos: VERB\txpos: VBZ\n",
            "word: that\t\tupos: SCONJ\txpos: IN\n",
            "word: the\t\tupos: DET\txpos: DT\n",
            "word: Titanic\t\tupos: PROPN\txpos: NNP\n",
            "word: --\t\tupos: PUNCT\txpos: ,\n",
            "word: even\t\tupos: ADV\txpos: RB\n",
            "word: though\t\tupos: SCONJ\txpos: IN\n",
            "word: it\t\tupos: PRON\txpos: PRP\n",
            "word: 's\t\tupos: AUX\txpos: VBZ\n",
            "word: breaking\t\tupos: VERB\txpos: VBG\n",
            "word: all\t\tupos: DET\txpos: DT\n",
            "word: sorts\t\tupos: NOUN\txpos: NNS\n",
            "word: of\t\tupos: ADP\txpos: IN\n",
            "word: box\t\tupos: NOUN\txpos: NN\n",
            "word: office\t\tupos: NOUN\txpos: NN\n",
            "word: records\t\tupos: NOUN\txpos: NNS\n",
            "word: --\t\tupos: PUNCT\txpos: ,\n",
            "word: it\t\tupos: PRON\txpos: PRP\n",
            "word: 's\t\tupos: AUX\txpos: VBZ\n",
            "word: not\t\tupos: PART\txpos: RB\n",
            "word: the\t\tupos: DET\txpos: DT\n",
            "word: most\t\tupos: ADV\txpos: RBS\n",
            "word: exciting\t\tupos: ADJ\txpos: JJ\n",
            "word: story\t\tupos: NOUN\txpos: NN\n",
            "word: from\t\tupos: ADP\txpos: IN\n",
            "word: the\t\tupos: DET\txpos: DT\n",
            "word: sea\t\tupos: NOUN\txpos: NN\n",
            "word: .\t\tupos: PUNCT\txpos: .\n",
            "########################################\n",
            "\n",
            "\n",
            "\n",
            "word: And\t\tupos: CCONJ\txpos: CC\n",
            "word: the\t\tupos: DET\txpos: DT\n",
            "word: problem\t\tupos: NOUN\txpos: NN\n",
            "word: ,\t\tupos: PUNCT\txpos: ,\n",
            "word: I\t\tupos: PRON\txpos: PRP\n",
            "word: think\t\tupos: VERB\txpos: VBP\n",
            "word: ,\t\tupos: PUNCT\txpos: ,\n",
            "word: is\t\tupos: VERB\txpos: VBZ\n",
            "word: that\t\tupos: SCONJ\txpos: IN\n",
            "word: we\t\tupos: PRON\txpos: PRP\n",
            "word: take\t\tupos: VERB\txpos: VBP\n",
            "word: the\t\tupos: DET\txpos: DT\n",
            "word: ocean\t\tupos: NOUN\txpos: NN\n",
            "word: for\t\tupos: ADP\txpos: IN\n",
            "word: granted\t\tupos: VERB\txpos: VBN\n",
            "word: .\t\tupos: PUNCT\txpos: .\n",
            "########################################\n",
            "\n",
            "\n",
            "\n",
            "word: Als\t\tupos: SCONJ\txpos: KOUS\n",
            "word: ich\t\tupos: PRON\txpos: PPER\n",
            "word: in\t\tupos: ADP\txpos: APPR\n",
            "word: meinen\t\tupos: PRON\txpos: PPOSAT\n",
            "word: 20ern\t\tupos: NOUN\txpos: NN\n",
            "word: war\t\tupos: VERB\txpos: VAFIN\n",
            "word: ,\t\tupos: PUNCT\txpos: $,\n",
            "word: hatte\t\tupos: VERB\txpos: VAFIN\n",
            "word: ich\t\tupos: PRON\txpos: PPER\n",
            "word: meine\t\tupos: PRON\txpos: PPOSAT\n",
            "word: erste\t\tupos: ADJ\txpos: ADJA\n",
            "word: Psychotherapie\t\tupos: NOUN\txpos: NN\n",
            "word: -\t\tupos: PUNCT\txpos: $(\n",
            "word: Patientin\t\tupos: NOUN\txpos: NN\n",
            "word: .\t\tupos: PUNCT\txpos: $.\n",
            "########################################\n",
            "\n",
            "\n",
            "\n",
            "word: Ich\t\tupos: PRON\txpos: PPER\n",
            "word: war\t\tupos: AUX\txpos: VAFIN\n",
            "word: Doktorandin\t\tupos: NOUN\txpos: NN\n",
            "word: und\t\tupos: CCONJ\txpos: KON\n",
            "word: studierte\t\tupos: VERB\txpos: VVFIN\n",
            "word: Klinische\t\tupos: ADJ\txpos: ADJA\n",
            "word: Psychologie\t\tupos: NOUN\txpos: NN\n",
            "word: in\t\tupos: ADP\txpos: APPR\n",
            "word: Berkeley\t\tupos: PROPN\txpos: NE\n",
            "word: .\t\tupos: PUNCT\txpos: $.\n",
            "########################################\n",
            "\n",
            "\n",
            "\n",
            "word: Sie\t\tupos: PRON\txpos: PPER\n",
            "word: war\t\tupos: AUX\txpos: VAFIN\n",
            "word: eine\t\tupos: DET\txpos: ART\n",
            "word: 26\t\tupos: NUM\txpos: ADJA\n",
            "word: -\t\tupos: PUNCT\txpos: $(\n",
            "word: jährige\t\tupos: ADJ\txpos: ADJA\n",
            "word: Frau\t\tupos: NOUN\txpos: NN\n",
            "word: namens\t\tupos: ADP\txpos: APPR\n",
            "word: Alex\t\tupos: PROPN\txpos: NE\n",
            "word: .\t\tupos: PUNCT\txpos: $.\n",
            "########################################\n",
            "\n",
            "\n",
            "\n",
            "word: Als\t\tupos: SCONJ\txpos: KOUS\n",
            "word: Alex\t\tupos: PROPN\txpos: NE\n",
            "word: in\t\tupos: ADP\txpos: APPR\n",
            "word: die\t\tupos: DET\txpos: ART\n",
            "word: erste\t\tupos: ADJ\txpos: ADJA\n",
            "word: Sitzung\t\tupos: NOUN\txpos: NN\n",
            "word: kam\t\tupos: VERB\txpos: VVFIN\n",
            "word: ,\t\tupos: PUNCT\txpos: $,\n",
            "word: trug\t\tupos: VERB\txpos: VVFIN\n",
            "word: sie\t\tupos: PRON\txpos: PPER\n",
            "word: Jeans\t\tupos: NOUN\txpos: NN\n",
            "word: und\t\tupos: CCONJ\txpos: KON\n",
            "word: ein\t\tupos: DET\txpos: ART\n",
            "word: ausgebeultes\t\tupos: ADJ\txpos: ADJA\n",
            "word: Top\t\tupos: NOUN\txpos: NN\n",
            "word: .\t\tupos: PUNCT\txpos: $.\n",
            "########################################\n",
            "word: Sie\t\tupos: PRON\txpos: PPER\n",
            "word: fiel\t\tupos: VERB\txpos: VVFIN\n",
            "word: auf\t\tupos: ADP\txpos: APPR\n",
            "word: das\t\tupos: DET\txpos: ART\n",
            "word: Sofa\t\tupos: NOUN\txpos: NN\n",
            "word: in\t\tupos: ADP\txpos: APPR\n",
            "word: meinem\t\tupos: PRON\txpos: PPOSAT\n",
            "word: Büro\t\tupos: NOUN\txpos: NN\n",
            "word: ,\t\tupos: PUNCT\txpos: $,\n",
            "word: schleuderte\t\tupos: VERB\txpos: VVFIN\n",
            "word: ihre\t\tupos: PRON\txpos: PPOSAT\n",
            "word: Sandalen\t\tupos: NOUN\txpos: NN\n",
            "word: von\t\tupos: ADP\txpos: APPR\n",
            "word: sich\t\tupos: PRON\txpos: PRF\n",
            "word: und\t\tupos: CCONJ\txpos: KON\n",
            "word: erzählte\t\tupos: VERB\txpos: VVFIN\n",
            "word: mir\t\tupos: PRON\txpos: PPER\n",
            "word: ,\t\tupos: PUNCT\txpos: $,\n",
            "word: sie\t\tupos: PRON\txpos: PPER\n",
            "word: wäre\t\tupos: AUX\txpos: VAFIN\n",
            "word: da\t\tupos: ADV\txpos: ADV\n",
            "word: ,\t\tupos: PUNCT\txpos: $,\n",
            "word: um\t\tupos: ADP\txpos: KOUI\n",
            "word: über\t\tupos: ADP\txpos: APPR\n",
            "word: Männerprobleme\t\tupos: NOUN\txpos: NN\n",
            "word: zu\t\tupos: PART\txpos: PTKZU\n",
            "word: reden\t\tupos: VERB\txpos: VVINF\n",
            "word: .\t\tupos: PUNCT\txpos: $.\n",
            "########################################\n",
            "\n",
            "\n",
            "\n",
            "word: Und\t\tupos: CCONJ\txpos: KON\n",
            "word: als\t\tupos: SCONJ\txpos: KOUS\n",
            "word: ich\t\tupos: PRON\txpos: PPER\n",
            "word: das\t\tupos: PRON\txpos: PDS\n",
            "word: hörte\t\tupos: VERB\txpos: VVFIN\n",
            "word: ,\t\tupos: PUNCT\txpos: $,\n",
            "word: war\t\tupos: AUX\txpos: VAFIN\n",
            "word: ich\t\tupos: PRON\txpos: PPER\n",
            "word: erleichtert\t\tupos: VERB\txpos: VVPP\n",
            "word: .\t\tupos: PUNCT\txpos: $.\n",
            "########################################\n",
            "\n",
            "\n",
            "\n",
            "word: When\t\tupos: ADV\txpos: WRB\n",
            "word: I\t\tupos: PRON\txpos: PRP\n",
            "word: was\t\tupos: AUX\txpos: VBD\n",
            "word: in\t\tupos: ADP\txpos: IN\n",
            "word: my\t\tupos: PRON\txpos: PRP$\n",
            "word: 20s\t\tupos: NOUN\txpos: NNS\n",
            "word: ,\t\tupos: PUNCT\txpos: ,\n",
            "word: I\t\tupos: PRON\txpos: PRP\n",
            "word: saw\t\tupos: VERB\txpos: VBD\n",
            "word: my\t\tupos: PRON\txpos: PRP$\n",
            "word: very\t\tupos: ADV\txpos: RB\n",
            "word: first\t\tupos: ADJ\txpos: JJ\n",
            "word: psychotherapy\t\tupos: NOUN\txpos: NN\n",
            "word: client\t\tupos: NOUN\txpos: NN\n",
            "word: .\t\tupos: PUNCT\txpos: .\n",
            "########################################\n",
            "\n",
            "\n",
            "\n",
            "word: I\t\tupos: PRON\txpos: PRP\n",
            "word: was\t\tupos: AUX\txpos: VBD\n",
            "word: a\t\tupos: DET\txpos: DT\n",
            "word: Ph.D.\t\tupos: NOUN\txpos: NN\n",
            "word: student\t\tupos: NOUN\txpos: NN\n",
            "word: in\t\tupos: ADP\txpos: IN\n",
            "word: clinical\t\tupos: ADJ\txpos: JJ\n",
            "word: psychology\t\tupos: NOUN\txpos: NN\n",
            "word: at\t\tupos: ADP\txpos: IN\n",
            "word: Berkeley\t\tupos: PROPN\txpos: NNP\n",
            "word: .\t\tupos: PUNCT\txpos: .\n",
            "########################################\n",
            "\n",
            "\n",
            "\n",
            "word: She\t\tupos: PRON\txpos: PRP\n",
            "word: was\t\tupos: AUX\txpos: VBD\n",
            "word: a\t\tupos: DET\txpos: DT\n",
            "word: 26\t\tupos: NUM\txpos: CD\n",
            "word: -\t\tupos: PUNCT\txpos: HYPH\n",
            "word: year\t\tupos: NOUN\txpos: NN\n",
            "word: -\t\tupos: PUNCT\txpos: HYPH\n",
            "word: old\t\tupos: ADJ\txpos: JJ\n",
            "word: woman\t\tupos: NOUN\txpos: NN\n",
            "word: named\t\tupos: VERB\txpos: VBN\n",
            "word: Alex\t\tupos: PROPN\txpos: NNP\n",
            "word: .\t\tupos: PUNCT\txpos: .\n",
            "########################################\n",
            "\n",
            "\n",
            "\n",
            "word: Now\t\tupos: ADV\txpos: RB\n",
            "word: Alex\t\tupos: PROPN\txpos: NNP\n",
            "word: walked\t\tupos: VERB\txpos: VBD\n",
            "word: into\t\tupos: ADP\txpos: IN\n",
            "word: her\t\tupos: PRON\txpos: PRP$\n",
            "word: first\t\tupos: ADJ\txpos: JJ\n",
            "word: session\t\tupos: NOUN\txpos: NN\n",
            "word: wearing\t\tupos: VERB\txpos: VBG\n",
            "word: jeans\t\tupos: NOUN\txpos: NNS\n",
            "word: and\t\tupos: CCONJ\txpos: CC\n",
            "word: a\t\tupos: DET\txpos: DT\n",
            "word: big\t\tupos: ADJ\txpos: JJ\n",
            "word: slouchy\t\tupos: ADJ\txpos: JJ\n",
            "word: top\t\tupos: NOUN\txpos: NN\n",
            "word: ,\t\tupos: PUNCT\txpos: ,\n",
            "word: and\t\tupos: CCONJ\txpos: CC\n",
            "word: she\t\tupos: PRON\txpos: PRP\n",
            "word: dropped\t\tupos: VERB\txpos: VBD\n",
            "word: onto\t\tupos: ADP\txpos: IN\n",
            "word: the\t\tupos: DET\txpos: DT\n",
            "word: couch\t\tupos: NOUN\txpos: NN\n",
            "word: in\t\tupos: ADP\txpos: IN\n",
            "word: my\t\tupos: PRON\txpos: PRP$\n",
            "word: office\t\tupos: NOUN\txpos: NN\n",
            "word: and\t\tupos: CCONJ\txpos: CC\n",
            "word: kicked\t\tupos: VERB\txpos: VBD\n",
            "word: off\t\tupos: ADP\txpos: RP\n",
            "word: her\t\tupos: PRON\txpos: PRP$\n",
            "word: flats\t\tupos: NOUN\txpos: NNS\n",
            "word: and\t\tupos: CCONJ\txpos: CC\n",
            "word: told\t\tupos: VERB\txpos: VBD\n",
            "word: me\t\tupos: PRON\txpos: PRP\n",
            "word: she\t\tupos: PRON\txpos: PRP\n",
            "word: was\t\tupos: AUX\txpos: VBD\n",
            "word: there\t\tupos: ADV\txpos: RB\n",
            "word: to\t\tupos: PART\txpos: TO\n",
            "word: talk\t\tupos: VERB\txpos: VB\n",
            "word: about\t\tupos: ADP\txpos: IN\n",
            "word: guy\t\tupos: NOUN\txpos: NN\n",
            "word: problems\t\tupos: NOUN\txpos: NNS\n",
            "word: .\t\tupos: PUNCT\txpos: .\n",
            "########################################\n",
            "\n",
            "\n",
            "\n",
            "word: Now\t\tupos: ADV\txpos: RB\n",
            "word: when\t\tupos: ADV\txpos: WRB\n",
            "word: I\t\tupos: PRON\txpos: PRP\n",
            "word: heard\t\tupos: VERB\txpos: VBD\n",
            "word: this\t\tupos: PRON\txpos: DT\n",
            "word: ,\t\tupos: PUNCT\txpos: ,\n",
            "word: I\t\tupos: PRON\txpos: PRP\n",
            "word: was\t\tupos: AUX\txpos: VBD\n",
            "word: so\t\tupos: ADV\txpos: RB\n",
            "word: relieved\t\tupos: ADJ\txpos: JJ\n",
            "word: .\t\tupos: PUNCT\txpos: .\n",
            "########################################\n",
            "\n",
            "\n",
            "\n",
            "word: Mein\t\tupos: PRON\txpos: PPOSAT\n",
            "word: Ziel\t\tupos: NOUN\txpos: NN\n",
            "word: in\t\tupos: ADP\txpos: APPR\n",
            "word: diesem\t\tupos: PRON\txpos: PDAT\n",
            "word: Video\t\tupos: NOUN\txpos: NN\n",
            "word: und\t\tupos: CCONJ\txpos: KON\n",
            "word: dem\t\tupos: DET\txpos: ART\n",
            "word: nächsten\t\tupos: NOUN\txpos: ADJA\n",
            "word: ist\t\tupos: AUX\txpos: VAFIN\n",
            "word: es\t\tupos: PRON\txpos: PPER\n",
            "word: ,\t\tupos: PUNCT\txpos: $.\n",
            "########################################\n",
            "\n",
            "\n",
            "\n",
            "word: einen\t\tupos: DET\txpos: ART\n",
            "word: Eindruck\t\tupos: NOUN\txpos: NN\n",
            "word: von\t\tupos: ADP\txpos: APPR\n",
            "word: der\t\tupos: DET\txpos: ART\n",
            "word: Größe\t\tupos: NOUN\txpos: NN\n",
            "word: der\t\tupos: DET\txpos: ART\n",
            "word: Erde\t\tupos: NOUN\txpos: NN\n",
            "word: (\t\tupos: PUNCT\txpos: $(\n",
            "word: wirklich\t\tupos: ADV\txpos: ADV\n",
            "word: nur\t\tupos: ADV\txpos: ADV\n",
            "word: der\t\tupos: DET\txpos: ART\n",
            "word: Erde\t\tupos: NOUN\txpos: NN\n",
            "word: )\t\tupos: PUNCT\txpos: $(\n",
            "########################################\n",
            "\n",
            "\n",
            "\n",
            "word: und\t\tupos: CCONJ\txpos: KON\n",
            "word: des\t\tupos: DET\txpos: ART\n",
            "word: Sonnensystems\t\tupos: NOUN\txpos: NN\n",
            "word: zu\t\tupos: PART\txpos: PTKZU\n",
            "word: vermitteln\t\tupos: VERB\txpos: VVINF\n",
            "word: .\t\tupos: PUNCT\txpos: $.\n",
            "########################################\n",
            "word: Und\t\tupos: CCONJ\txpos: KON\n",
            "word: wie\t\tupos: SCONJ\txpos: KOUS\n",
            "word: wir\t\tupos: PRON\txpos: PPER\n",
            "word: sehen\t\tupos: VERB\txpos: VVINF\n",
            "word: werden\t\tupos: AUX\txpos: VAFIN\n",
            "word: ,\t\tupos: PUNCT\txpos: $.\n",
            "########################################\n",
            "\n",
            "\n",
            "\n",
            "word: wenn\t\tupos: SCONJ\txpos: KOUS\n",
            "word: wir\t\tupos: PRON\txpos: PPER\n",
            "word: uns\t\tupos: PRON\txpos: PRF\n",
            "word: die\t\tupos: DET\txpos: ART\n",
            "word: Galaxie\t\tupos: NOUN\txpos: NN\n",
            "word: und\t\tupos: CCONJ\txpos: KON\n",
            "word: das\t\tupos: DET\txpos: ART\n",
            "word: Universum\t\tupos: NOUN\txpos: NN\n",
            "word: vornehmen\t\tupos: VERB\txpos: VVFIN\n",
            "word: ,\t\tupos: PUNCT\txpos: $,\n",
            "########################################\n",
            "\n",
            "\n",
            "\n",
            "word: wird\t\tupos: AUX\txpos: VAFIN\n",
            "word: es\t\tupos: PRON\txpos: PPER\n",
            "word: fast\t\tupos: ADV\txpos: ADV\n",
            "word: unmöglich\t\tupos: ADJ\txpos: ADJD\n",
            "word: sich\t\tupos: PRON\txpos: PRF\n",
            "word: das\t\tupos: DET\txpos: ART\n",
            "word: alles\t\tupos: PRON\txpos: PIS\n",
            "word: vorzustellen\t\tupos: VERB\txpos: VVIZU\n",
            "word: .\t\tupos: PUNCT\txpos: $.\n",
            "########################################\n",
            "\n",
            "\n",
            "\n"
          ],
          "name": "stdout"
        }
      ]
    },
    {
      "cell_type": "code",
      "metadata": {
        "id": "jy_n8_cGMkmo",
        "colab_type": "code",
        "colab": {}
      },
      "source": [
        "decased_corpuses = decase_corpuses(processed_corpuses)"
      ],
      "execution_count": 40,
      "outputs": []
    },
    {
      "cell_type": "code",
      "metadata": {
        "id": "s_fyOl4pMlSO",
        "colab_type": "code",
        "colab": {
          "base_uri": "https://localhost:8080/",
          "height": 547
        },
        "outputId": "54fd6070-48fe-42f7-eedb-d32214336f70"
      },
      "source": [
        "print_corpuses(decased_corpuses)"
      ],
      "execution_count": 42,
      "outputs": [
        {
          "output_type": "stream",
          "text": [
            "['David', 'Gallo', ':', 'das', 'ist', 'Bill', 'Lange', '.', 'ich', 'bin', 'Dave', 'Gallo', '.']\n",
            "['wir', 'werden', 'Ihnen', 'einige', 'Geschichten', 'über', 'das', 'Meer', 'in', 'Videoform', 'erzählen', '.']\n",
            "['wir', 'haben', 'ein', 'paar', 'der', 'unglaublichsten', 'Aufnahmen', 'der', 'Titanic', ',', 'die', 'man', 'je', 'gesehen', 'hat', ',', ',', 'und', 'wir', 'werden', 'Ihnen', 'nichts', 'davon', 'zeigen', '.']\n",
            "['die', 'Wahrheit', 'ist', ',', 'dass', 'die', 'Titanic', '–', 'obwohl', 'sie', 'alle', 'Kinokassenrekorde', 'bricht', '–', 'nicht', 'gerade', 'die', 'aufregendste', 'Geschichte', 'von', 'dem', 'Meer', 'ist', '.']\n",
            "['ich', 'denke', ',', 'das', 'Problem', 'ist', ',', 'dass', 'wir', 'das', 'Meer', 'für', 'zu', 'selbstverständlich', 'halten', '.']\n",
            "\n",
            "['David', 'Gallo', ':', 'this', 'is', 'Bill', 'Lange', '.', 'I', \"'m\", 'Dave', 'Gallo', '.']\n",
            "['and', 'we', \"'re\", 'going', 'to', 'tell', 'you', 'some', 'stories', 'from', 'the', 'sea', 'here', 'in', 'video', '.']\n",
            "['we', \"'ve\", 'got', 'some', 'of', 'the', 'most', 'incredible', 'video', 'of', 'Titanic', 'that', \"'s\", 'ever', 'been', 'seen', ',', 'and', 'we', \"'re\", 'not', 'going', 'to', 'show', 'you', 'any', 'of', 'it', '.']\n",
            "['the', 'truth', 'of', 'the', 'matter', 'is', 'that', 'the', 'Titanic', '--', 'even', 'though', 'it', \"'s\", 'breaking', 'all', 'sorts', 'of', 'box', 'office', 'records', '--', 'it', \"'s\", 'not', 'the', 'most', 'exciting', 'story', 'from', 'the', 'sea', '.']\n",
            "['and', 'the', 'problem', ',', 'I', 'think', ',', 'is', 'that', 'we', 'take', 'the', 'ocean', 'for', 'granted', '.']\n",
            "\n",
            "['als', 'ich', 'in', 'meinen', '20ern', 'war', ',', 'hatte', 'ich', 'meine', 'erste', 'Psychotherapie', '-', 'Patientin', '.']\n",
            "['ich', 'war', 'Doktorandin', 'und', 'studierte', 'Klinische', 'Psychologie', 'in', 'Berkeley', '.']\n",
            "['sie', 'war', 'eine', '26', '-', 'jährige', 'Frau', 'namens', 'Alex', '.']\n",
            "['als', 'Alex', 'in', 'die', 'erste', 'Sitzung', 'kam', ',', 'trug', 'sie', 'Jeans', 'und', 'ein', 'ausgebeultes', 'Top', '.', 'sie', 'fiel', 'auf', 'das', 'Sofa', 'in', 'meinem', 'Büro', ',', 'schleuderte', 'ihre', 'Sandalen', 'von', 'sich', 'und', 'erzählte', 'mir', ',', 'sie', 'wäre', 'da', ',', 'um', 'über', 'Männerprobleme', 'zu', 'reden', '.']\n",
            "['und', 'als', 'ich', 'das', 'hörte', ',', 'war', 'ich', 'erleichtert', '.']\n",
            "\n",
            "['when', 'I', 'was', 'in', 'my', '20s', ',', 'I', 'saw', 'my', 'very', 'first', 'psychotherapy', 'client', '.']\n",
            "['I', 'was', 'a', 'Ph.D.', 'student', 'in', 'clinical', 'psychology', 'at', 'Berkeley', '.']\n",
            "['she', 'was', 'a', '26', '-', 'year', '-', 'old', 'woman', 'named', 'Alex', '.']\n",
            "['now', 'Alex', 'walked', 'into', 'her', 'first', 'session', 'wearing', 'jeans', 'and', 'a', 'big', 'slouchy', 'top', ',', 'and', 'she', 'dropped', 'onto', 'the', 'couch', 'in', 'my', 'office', 'and', 'kicked', 'off', 'her', 'flats', 'and', 'told', 'me', 'she', 'was', 'there', 'to', 'talk', 'about', 'guy', 'problems', '.']\n",
            "['now', 'when', 'I', 'heard', 'this', ',', 'I', 'was', 'so', 'relieved', '.']\n",
            "\n",
            "['mein', 'Ziel', 'in', 'diesem', 'Video', 'und', 'dem', 'nächsten', 'ist', 'es', ',']\n",
            "['einen', 'Eindruck', 'von', 'der', 'Größe', 'der', 'Erde', '(', 'wirklich', 'nur', 'der', 'Erde', ')']\n",
            "['und', 'des', 'Sonnensystems', 'zu', 'vermitteln', '.', 'und', 'wie', 'wir', 'sehen', 'werden', ',']\n",
            "['wenn', 'wir', 'uns', 'die', 'Galaxie', 'und', 'das', 'Universum', 'vornehmen', ',']\n",
            "['wird', 'es', 'fast', 'unmöglich', 'sich', 'das', 'alles', 'vorzustellen', '.']\n",
            "\n"
          ],
          "name": "stdout"
        }
      ]
    },
    {
      "cell_type": "code",
      "metadata": {
        "id": "fCCDq-NBMmM-",
        "colab_type": "code",
        "colab": {
          "base_uri": "https://localhost:8080/",
          "height": 241
        },
        "outputId": "f9808ed4-65eb-428a-bed7-1c050a1ed6fd"
      },
      "source": [
        "ref_corpuses = get_references(decased_corpuses)\n",
        "print_corpuses(ref_corpuses)"
      ],
      "execution_count": 47,
      "outputs": [
        {
          "output_type": "stream",
          "text": [
            "[['David', 'Gallo', ':', 'this', 'is', 'Bill', 'Lange', '.', 'I', \"'m\", 'Dave', 'Gallo', '.']]\n",
            "[['and', 'we', \"'re\", 'going', 'to', 'tell', 'you', 'some', 'stories', 'from', 'the', 'sea', 'here', 'in', 'video', '.']]\n",
            "[['we', \"'ve\", 'got', 'some', 'of', 'the', 'most', 'incredible', 'video', 'of', 'Titanic', 'that', \"'s\", 'ever', 'been', 'seen', ',', 'and', 'we', \"'re\", 'not', 'going', 'to', 'show', 'you', 'any', 'of', 'it', '.']]\n",
            "[['the', 'truth', 'of', 'the', 'matter', 'is', 'that', 'the', 'Titanic', '--', 'even', 'though', 'it', \"'s\", 'breaking', 'all', 'sorts', 'of', 'box', 'office', 'records', '--', 'it', \"'s\", 'not', 'the', 'most', 'exciting', 'story', 'from', 'the', 'sea', '.']]\n",
            "[['and', 'the', 'problem', ',', 'I', 'think', ',', 'is', 'that', 'we', 'take', 'the', 'ocean', 'for', 'granted', '.']]\n",
            "\n",
            "[['when', 'I', 'was', 'in', 'my', '20s', ',', 'I', 'saw', 'my', 'very', 'first', 'psychotherapy', 'client', '.']]\n",
            "[['I', 'was', 'a', 'Ph.D.', 'student', 'in', 'clinical', 'psychology', 'at', 'Berkeley', '.']]\n",
            "[['she', 'was', 'a', '26', '-', 'year', '-', 'old', 'woman', 'named', 'Alex', '.']]\n",
            "[['now', 'Alex', 'walked', 'into', 'her', 'first', 'session', 'wearing', 'jeans', 'and', 'a', 'big', 'slouchy', 'top', ',', 'and', 'she', 'dropped', 'onto', 'the', 'couch', 'in', 'my', 'office', 'and', 'kicked', 'off', 'her', 'flats', 'and', 'told', 'me', 'she', 'was', 'there', 'to', 'talk', 'about', 'guy', 'problems', '.']]\n",
            "[['now', 'when', 'I', 'heard', 'this', ',', 'I', 'was', 'so', 'relieved', '.']]\n",
            "\n"
          ],
          "name": "stdout"
        }
      ]
    },
    {
      "cell_type": "code",
      "metadata": {
        "id": "oubBJYDMMmae",
        "colab_type": "code",
        "colab": {}
      },
      "source": [
        ""
      ],
      "execution_count": null,
      "outputs": []
    },
    {
      "cell_type": "code",
      "metadata": {
        "id": "HAU939QIMmne",
        "colab_type": "code",
        "colab": {}
      },
      "source": [
        ""
      ],
      "execution_count": null,
      "outputs": []
    },
    {
      "cell_type": "code",
      "metadata": {
        "id": "n-zemxFwMm3W",
        "colab_type": "code",
        "colab": {
          "base_uri": "https://localhost:8080/",
          "height": 816
        },
        "outputId": "c55abdd3-a4f2-4beb-9461-a7274a56497b"
      },
      "source": [
        "german_decase([src_processor('Sie haben etwas namens RNA.')], num=1)"
      ],
      "execution_count": 112,
      "outputs": [
        {
          "output_type": "stream",
          "text": [
            "[\n",
            "  {\n",
            "    \"id\": 1,\n",
            "    \"text\": \"Sie\",\n",
            "    \"upos\": \"PRON\",\n",
            "    \"xpos\": \"PPER\",\n",
            "    \"feats\": \"Case=Nom|Number=Plur|Person=3|PronType=Prs\",\n",
            "    \"misc\": \"start_char=0|end_char=3\"\n",
            "  },\n",
            "  {\n",
            "    \"id\": 2,\n",
            "    \"text\": \"haben\",\n",
            "    \"upos\": \"VERB\",\n",
            "    \"xpos\": \"VAFIN\",\n",
            "    \"feats\": \"Mood=Ind|Number=Plur|Person=3|Tense=Pres|VerbForm=Fin\",\n",
            "    \"misc\": \"start_char=4|end_char=9\"\n",
            "  },\n",
            "  {\n",
            "    \"id\": 3,\n",
            "    \"text\": \"etwas\",\n",
            "    \"upos\": \"ADV\",\n",
            "    \"xpos\": \"ADV\",\n",
            "    \"misc\": \"start_char=10|end_char=15\"\n",
            "  },\n",
            "  {\n",
            "    \"id\": 4,\n",
            "    \"text\": \"namens\",\n",
            "    \"upos\": \"ADP\",\n",
            "    \"xpos\": \"APPR\",\n",
            "    \"misc\": \"start_char=16|end_char=22\"\n",
            "  },\n",
            "  {\n",
            "    \"id\": 5,\n",
            "    \"text\": \"RNA\",\n",
            "    \"upos\": \"PROPN\",\n",
            "    \"xpos\": \"NE\",\n",
            "    \"feats\": \"Case=Acc|Gender=Masc|Number=Sing\",\n",
            "    \"misc\": \"start_char=23|end_char=26\"\n",
            "  },\n",
            "  {\n",
            "    \"id\": 6,\n",
            "    \"text\": \".\",\n",
            "    \"upos\": \"PUNCT\",\n",
            "    \"xpos\": \"$.\",\n",
            "    \"misc\": \"start_char=26|end_char=27\"\n",
            "  }\n",
            "]\n"
          ],
          "name": "stdout"
        }
      ]
    },
    {
      "cell_type": "code",
      "metadata": {
        "id": "10kdUxrzMnE2",
        "colab_type": "code",
        "colab": {
          "base_uri": "https://localhost:8080/",
          "height": 300
        },
        "outputId": "f8846f26-a8c2-4253-ea5b-4293a08ae5d5"
      },
      "source": [
        "#print_processed_corpus(all_corpuses[\"src\"][\"train.de\"], num=1)"
      ],
      "execution_count": 99,
      "outputs": [
        {
          "output_type": "error",
          "ename": "TypeError",
          "evalue": "ignored",
          "traceback": [
            "\u001b[0;31m---------------------------------------------------------------------------\u001b[0m",
            "\u001b[0;31mTypeError\u001b[0m                                 Traceback (most recent call last)",
            "\u001b[0;32m<ipython-input-99-5d7638d3f48a>\u001b[0m in \u001b[0;36m<module>\u001b[0;34m()\u001b[0m\n\u001b[0;32m----> 1\u001b[0;31m \u001b[0mprint_processed_corpus\u001b[0m\u001b[0;34m(\u001b[0m\u001b[0mgerman_decase\u001b[0m\u001b[0;34m(\u001b[0m\u001b[0;34m[\u001b[0m\u001b[0msrc_processor\u001b[0m\u001b[0;34m(\u001b[0m\u001b[0;34m'Sie haben etwas namens RNA.'\u001b[0m\u001b[0;34m)\u001b[0m\u001b[0;34m]\u001b[0m\u001b[0;34m,\u001b[0m \u001b[0mnum\u001b[0m\u001b[0;34m=\u001b[0m\u001b[0;36m1\u001b[0m\u001b[0;34m)\u001b[0m\u001b[0;34m,\u001b[0m \u001b[0mnum\u001b[0m\u001b[0;34m=\u001b[0m\u001b[0;36m1\u001b[0m\u001b[0;34m)\u001b[0m\u001b[0;34m\u001b[0m\u001b[0;34m\u001b[0m\u001b[0m\n\u001b[0m\u001b[1;32m      2\u001b[0m \u001b[0;31m#print_processed_corpus(all_corpuses[\"src\"][\"train.de\"], num=1)\u001b[0m\u001b[0;34m\u001b[0m\u001b[0;34m\u001b[0m\u001b[0;34m\u001b[0m\u001b[0m\n",
            "\u001b[0;32m/content/pos_tags.py\u001b[0m in \u001b[0;36mprint_processed_corpus\u001b[0;34m(corpus, num)\u001b[0m\n\u001b[1;32m    117\u001b[0m \u001b[0;31m# prints tag info\u001b[0m\u001b[0;34m\u001b[0m\u001b[0;34m\u001b[0m\u001b[0;34m\u001b[0m\u001b[0m\n\u001b[1;32m    118\u001b[0m \u001b[0;32mdef\u001b[0m \u001b[0mprint_processed_corpus\u001b[0m\u001b[0;34m(\u001b[0m\u001b[0mcorpus\u001b[0m\u001b[0;34m,\u001b[0m \u001b[0mnum\u001b[0m\u001b[0;34m=\u001b[0m\u001b[0;36m5\u001b[0m\u001b[0;34m)\u001b[0m\u001b[0;34m:\u001b[0m\u001b[0;34m\u001b[0m\u001b[0;34m\u001b[0m\u001b[0m\n\u001b[0;32m--> 119\u001b[0;31m     \u001b[0;32mfor\u001b[0m \u001b[0mdoc\u001b[0m \u001b[0;32min\u001b[0m \u001b[0mcorpus\u001b[0m\u001b[0;34m[\u001b[0m\u001b[0;34m:\u001b[0m\u001b[0mnum\u001b[0m\u001b[0;34m]\u001b[0m\u001b[0;34m:\u001b[0m\u001b[0;34m\u001b[0m\u001b[0;34m\u001b[0m\u001b[0m\n\u001b[0m\u001b[1;32m    120\u001b[0m         \u001b[0;32mfor\u001b[0m \u001b[0msent\u001b[0m \u001b[0;32min\u001b[0m \u001b[0mdoc\u001b[0m\u001b[0;34m.\u001b[0m\u001b[0msentences\u001b[0m\u001b[0;34m:\u001b[0m\u001b[0;34m\u001b[0m\u001b[0;34m\u001b[0m\u001b[0m\n\u001b[1;32m    121\u001b[0m             \u001b[0;32mfor\u001b[0m \u001b[0mword\u001b[0m \u001b[0;32min\u001b[0m \u001b[0msent\u001b[0m\u001b[0;34m.\u001b[0m\u001b[0mwords\u001b[0m\u001b[0;34m:\u001b[0m\u001b[0;34m\u001b[0m\u001b[0;34m\u001b[0m\u001b[0m\n",
            "\u001b[0;31mTypeError\u001b[0m: 'NoneType' object is not subscriptable"
          ]
        }
      ]
    },
    {
      "cell_type": "code",
      "metadata": {
        "id": "aFsoT0rjjenq",
        "colab_type": "code",
        "colab": {}
      },
      "source": [
        ""
      ],
      "execution_count": null,
      "outputs": []
    },
    {
      "cell_type": "code",
      "metadata": {
        "id": "Gs_Pug97MnSO",
        "colab_type": "code",
        "colab": {}
      },
      "source": [
        ""
      ],
      "execution_count": null,
      "outputs": []
    },
    {
      "cell_type": "code",
      "metadata": {
        "id": "xqXCwS26MnfO",
        "colab_type": "code",
        "colab": {}
      },
      "source": [
        ""
      ],
      "execution_count": null,
      "outputs": []
    },
    {
      "cell_type": "code",
      "metadata": {
        "id": "QOOlWPZhMnsd",
        "colab_type": "code",
        "colab": {}
      },
      "source": [
        ""
      ],
      "execution_count": null,
      "outputs": []
    },
    {
      "cell_type": "code",
      "metadata": {
        "id": "dOCj5KylMn5x",
        "colab_type": "code",
        "colab": {}
      },
      "source": [
        ""
      ],
      "execution_count": null,
      "outputs": []
    },
    {
      "cell_type": "code",
      "metadata": {
        "id": "TvWe8KELnPkD",
        "colab_type": "code",
        "colab": {}
      },
      "source": [
        "# with open(path + 'train.en', mode='rt', encoding='utf-8') as f:\n",
        "#   train_en = f.read().strip().split('\\n')\n",
        "\n",
        "# with open(path + 'train.de', mode='rt', encoding='utf-8') as f:\n",
        "#   train_de = f.read().strip().split('\\n')"
      ],
      "execution_count": null,
      "outputs": []
    },
    {
      "cell_type": "code",
      "metadata": {
        "id": "NMr19VgQnfrS",
        "colab_type": "code",
        "colab": {
          "base_uri": "https://localhost:8080/",
          "height": 224
        },
        "outputId": "142ca513-491d-478d-9ccd-e38608fc2ddc"
      },
      "source": [
        "# num = 5\n",
        "# for sent in train_en[:num]:\n",
        "#   print(sent)\n",
        "# print()\n",
        "# num = 5\n",
        "# for sent in train_de[:num]:\n",
        "#   print(sent)\n"
      ],
      "execution_count": null,
      "outputs": [
        {
          "output_type": "stream",
          "text": [
            "David Gallo: This is Bill Lange. I'm Dave Gallo.\n",
            "And we're going to tell you some stories from the sea here in video.\n",
            "We've got some of the most incredible video of Titanic that's ever been seen, and we're not going to show you any of it.\n",
            "The truth of the matter is that the Titanic -- even though it's breaking all sorts of box office records -- it's not the most exciting story from the sea.\n",
            "And the problem, I think, is that we take the ocean for granted.\n",
            "\n",
            "David Gallo: Das ist Bill Lange. Ich bin Dave Gallo.\n",
            "Wir werden Ihnen einige Geschichten über das Meer in Videoform erzählen.\n",
            "Wir haben ein paar der unglaublichsten Aufnahmen der Titanic, die man je gesehen hat,, und wir werden Ihnen nichts davon zeigen.\n",
            "Die Wahrheit ist, dass die Titanic – obwohl sie alle Kinokassenrekorde bricht – nicht gerade die aufregendste Geschichte vom Meer ist.\n",
            "Ich denke, das Problem ist, dass wir das Meer für zu selbstverständlich halten.\n"
          ],
          "name": "stdout"
        }
      ]
    },
    {
      "cell_type": "code",
      "metadata": {
        "id": "T7PcjXOsGEaM",
        "colab_type": "code",
        "colab": {}
      },
      "source": [
        ""
      ],
      "execution_count": null,
      "outputs": []
    },
    {
      "cell_type": "code",
      "metadata": {
        "id": "gPQFNY9_nj1h",
        "colab_type": "code",
        "colab": {
          "base_uri": "https://localhost:8080/",
          "height": 1000
        },
        "outputId": "01dc04e1-e838-4c2e-bacb-410ffbf1422c"
      },
      "source": [
        "# for sentence in train_en[:5]:\n",
        "#   doc = nlp_en(sentence)\n",
        "#   for sent in doc.sentences:\n",
        "#     for word in sent.words: \n",
        "#       print(f'word: {word.text}\\t\\tupos: {word.upos}\\txpos: {word.xpos}\\tfeats: {word.feats if word.feats else \"_\"}')\n",
        "#     print()\n",
        "#   print()\n",
        "#   print()\n",
        "#   print()\n"
      ],
      "execution_count": null,
      "outputs": [
        {
          "output_type": "stream",
          "text": [
            "word: David\t\tupos: PROPN\txpos: NNP\tfeats: Number=Sing\n",
            "word: Gallo\t\tupos: PROPN\txpos: NNP\tfeats: Number=Sing\n",
            "word: :\t\tupos: PUNCT\txpos: :\tfeats: _\n",
            "\n",
            "word: This\t\tupos: PRON\txpos: DT\tfeats: Number=Sing|PronType=Dem\n",
            "word: is\t\tupos: AUX\txpos: VBZ\tfeats: Mood=Ind|Number=Sing|Person=3|Tense=Pres|VerbForm=Fin\n",
            "word: Bill\t\tupos: PROPN\txpos: NNP\tfeats: Number=Sing\n",
            "word: Lange\t\tupos: PROPN\txpos: NNP\tfeats: Number=Sing\n",
            "word: .\t\tupos: PUNCT\txpos: .\tfeats: _\n",
            "\n",
            "word: I\t\tupos: PRON\txpos: PRP\tfeats: Case=Nom|Number=Sing|Person=1|PronType=Prs\n",
            "word: 'm\t\tupos: AUX\txpos: VBP\tfeats: Mood=Ind|Tense=Pres|VerbForm=Fin\n",
            "word: Dave\t\tupos: PROPN\txpos: NNP\tfeats: Number=Sing\n",
            "word: Gallo\t\tupos: PROPN\txpos: NNP\tfeats: Number=Sing\n",
            "word: .\t\tupos: PUNCT\txpos: .\tfeats: _\n",
            "\n",
            "\n",
            "\n",
            "\n",
            "word: And\t\tupos: CCONJ\txpos: CC\tfeats: _\n",
            "word: we\t\tupos: PRON\txpos: PRP\tfeats: Case=Nom|Number=Plur|Person=1|PronType=Prs\n",
            "word: 're\t\tupos: AUX\txpos: VBP\tfeats: Mood=Ind|Tense=Pres|VerbForm=Fin\n",
            "word: going\t\tupos: VERB\txpos: VBG\tfeats: Tense=Pres|VerbForm=Part\n",
            "word: to\t\tupos: PART\txpos: TO\tfeats: _\n",
            "word: tell\t\tupos: VERB\txpos: VB\tfeats: VerbForm=Inf\n",
            "word: you\t\tupos: PRON\txpos: PRP\tfeats: Case=Acc|Person=2|PronType=Prs\n",
            "word: some\t\tupos: DET\txpos: DT\tfeats: _\n",
            "word: stories\t\tupos: NOUN\txpos: NNS\tfeats: Number=Plur\n",
            "word: from\t\tupos: ADP\txpos: IN\tfeats: _\n",
            "word: the\t\tupos: DET\txpos: DT\tfeats: Definite=Def|PronType=Art\n",
            "word: sea\t\tupos: NOUN\txpos: NN\tfeats: Number=Sing\n",
            "word: here\t\tupos: ADV\txpos: RB\tfeats: PronType=Dem\n",
            "word: in\t\tupos: ADP\txpos: IN\tfeats: _\n",
            "word: video\t\tupos: NOUN\txpos: NN\tfeats: Number=Sing\n",
            "word: .\t\tupos: PUNCT\txpos: .\tfeats: _\n",
            "\n",
            "\n",
            "\n",
            "\n",
            "word: We\t\tupos: PRON\txpos: PRP\tfeats: Case=Nom|Number=Plur|Person=1|PronType=Prs\n",
            "word: 've\t\tupos: AUX\txpos: VBP\tfeats: Mood=Ind|Tense=Pres|VerbForm=Fin\n",
            "word: got\t\tupos: VERB\txpos: VBN\tfeats: Tense=Past|VerbForm=Part\n",
            "word: some\t\tupos: DET\txpos: DT\tfeats: _\n",
            "word: of\t\tupos: ADP\txpos: IN\tfeats: _\n",
            "word: the\t\tupos: DET\txpos: DT\tfeats: Definite=Def|PronType=Art\n",
            "word: most\t\tupos: ADV\txpos: RBS\tfeats: _\n",
            "word: incredible\t\tupos: ADJ\txpos: JJ\tfeats: Degree=Pos\n",
            "word: video\t\tupos: NOUN\txpos: NN\tfeats: Number=Sing\n",
            "word: of\t\tupos: ADP\txpos: IN\tfeats: _\n",
            "word: Titanic\t\tupos: PROPN\txpos: NNP\tfeats: Number=Sing\n",
            "word: that\t\tupos: PRON\txpos: WDT\tfeats: PronType=Rel\n",
            "word: 's\t\tupos: AUX\txpos: VBZ\tfeats: Mood=Ind|Number=Sing|Person=3|Tense=Pres|VerbForm=Fin\n",
            "word: ever\t\tupos: ADV\txpos: RB\tfeats: _\n",
            "word: been\t\tupos: AUX\txpos: VBN\tfeats: Tense=Past|VerbForm=Part\n",
            "word: seen\t\tupos: VERB\txpos: VBN\tfeats: Tense=Past|VerbForm=Part|Voice=Pass\n",
            "word: ,\t\tupos: PUNCT\txpos: ,\tfeats: _\n",
            "word: and\t\tupos: CCONJ\txpos: CC\tfeats: _\n",
            "word: we\t\tupos: PRON\txpos: PRP\tfeats: Case=Nom|Number=Plur|Person=1|PronType=Prs\n",
            "word: 're\t\tupos: AUX\txpos: VBP\tfeats: Mood=Ind|Tense=Pres|VerbForm=Fin\n",
            "word: not\t\tupos: PART\txpos: RB\tfeats: _\n",
            "word: going\t\tupos: VERB\txpos: VBG\tfeats: Tense=Pres|VerbForm=Part\n",
            "word: to\t\tupos: PART\txpos: TO\tfeats: _\n",
            "word: show\t\tupos: VERB\txpos: VB\tfeats: VerbForm=Inf\n",
            "word: you\t\tupos: PRON\txpos: PRP\tfeats: Case=Acc|Person=2|PronType=Prs\n",
            "word: any\t\tupos: DET\txpos: DT\tfeats: _\n",
            "word: of\t\tupos: ADP\txpos: IN\tfeats: _\n",
            "word: it\t\tupos: PRON\txpos: PRP\tfeats: Case=Acc|Gender=Neut|Number=Sing|Person=3|PronType=Prs\n",
            "word: .\t\tupos: PUNCT\txpos: .\tfeats: _\n",
            "\n",
            "\n",
            "\n",
            "\n",
            "word: The\t\tupos: DET\txpos: DT\tfeats: Definite=Def|PronType=Art\n",
            "word: truth\t\tupos: NOUN\txpos: NN\tfeats: Number=Sing\n",
            "word: of\t\tupos: ADP\txpos: IN\tfeats: _\n",
            "word: the\t\tupos: DET\txpos: DT\tfeats: Definite=Def|PronType=Art\n",
            "word: matter\t\tupos: NOUN\txpos: NN\tfeats: Number=Sing\n",
            "word: is\t\tupos: VERB\txpos: VBZ\tfeats: Mood=Ind|Number=Sing|Person=3|Tense=Pres|VerbForm=Fin\n",
            "word: that\t\tupos: SCONJ\txpos: IN\tfeats: _\n",
            "word: the\t\tupos: DET\txpos: DT\tfeats: Definite=Def|PronType=Art\n",
            "word: Titanic\t\tupos: PROPN\txpos: NNP\tfeats: Number=Sing\n",
            "word: --\t\tupos: PUNCT\txpos: ,\tfeats: _\n",
            "word: even\t\tupos: ADV\txpos: RB\tfeats: _\n",
            "word: though\t\tupos: SCONJ\txpos: IN\tfeats: _\n",
            "word: it\t\tupos: PRON\txpos: PRP\tfeats: Case=Nom|Gender=Neut|Number=Sing|Person=3|PronType=Prs\n",
            "word: 's\t\tupos: AUX\txpos: VBZ\tfeats: Mood=Ind|Number=Sing|Person=3|Tense=Pres|VerbForm=Fin\n",
            "word: breaking\t\tupos: VERB\txpos: VBG\tfeats: Tense=Pres|VerbForm=Part\n",
            "word: all\t\tupos: DET\txpos: DT\tfeats: _\n",
            "word: sorts\t\tupos: NOUN\txpos: NNS\tfeats: Number=Plur\n",
            "word: of\t\tupos: ADP\txpos: IN\tfeats: _\n",
            "word: box\t\tupos: NOUN\txpos: NN\tfeats: Number=Sing\n",
            "word: office\t\tupos: NOUN\txpos: NN\tfeats: Number=Sing\n",
            "word: records\t\tupos: NOUN\txpos: NNS\tfeats: Number=Plur\n",
            "word: --\t\tupos: PUNCT\txpos: ,\tfeats: _\n",
            "word: it\t\tupos: PRON\txpos: PRP\tfeats: Case=Nom|Gender=Neut|Number=Sing|Person=3|PronType=Prs\n",
            "word: 's\t\tupos: AUX\txpos: VBZ\tfeats: Mood=Ind|Number=Sing|Person=3|Tense=Pres|VerbForm=Fin\n",
            "word: not\t\tupos: PART\txpos: RB\tfeats: _\n",
            "word: the\t\tupos: DET\txpos: DT\tfeats: Definite=Def|PronType=Art\n",
            "word: most\t\tupos: ADV\txpos: RBS\tfeats: _\n",
            "word: exciting\t\tupos: ADJ\txpos: JJ\tfeats: Degree=Pos\n",
            "word: story\t\tupos: NOUN\txpos: NN\tfeats: Number=Sing\n",
            "word: from\t\tupos: ADP\txpos: IN\tfeats: _\n",
            "word: the\t\tupos: DET\txpos: DT\tfeats: Definite=Def|PronType=Art\n",
            "word: sea\t\tupos: NOUN\txpos: NN\tfeats: Number=Sing\n",
            "word: .\t\tupos: PUNCT\txpos: .\tfeats: _\n",
            "\n",
            "\n",
            "\n",
            "\n",
            "word: And\t\tupos: CCONJ\txpos: CC\tfeats: _\n",
            "word: the\t\tupos: DET\txpos: DT\tfeats: Definite=Def|PronType=Art\n",
            "word: problem\t\tupos: NOUN\txpos: NN\tfeats: Number=Sing\n",
            "word: ,\t\tupos: PUNCT\txpos: ,\tfeats: _\n",
            "word: I\t\tupos: PRON\txpos: PRP\tfeats: Case=Nom|Number=Sing|Person=1|PronType=Prs\n",
            "word: think\t\tupos: VERB\txpos: VBP\tfeats: Mood=Ind|Tense=Pres|VerbForm=Fin\n",
            "word: ,\t\tupos: PUNCT\txpos: ,\tfeats: _\n",
            "word: is\t\tupos: VERB\txpos: VBZ\tfeats: Mood=Ind|Number=Sing|Person=3|Tense=Pres|VerbForm=Fin\n",
            "word: that\t\tupos: SCONJ\txpos: IN\tfeats: _\n",
            "word: we\t\tupos: PRON\txpos: PRP\tfeats: Case=Nom|Number=Plur|Person=1|PronType=Prs\n",
            "word: take\t\tupos: VERB\txpos: VBP\tfeats: Mood=Ind|Tense=Pres|VerbForm=Fin\n",
            "word: the\t\tupos: DET\txpos: DT\tfeats: Definite=Def|PronType=Art\n",
            "word: ocean\t\tupos: NOUN\txpos: NN\tfeats: Number=Sing\n",
            "word: for\t\tupos: ADP\txpos: IN\tfeats: _\n",
            "word: granted\t\tupos: VERB\txpos: VBN\tfeats: Tense=Past|VerbForm=Part\n",
            "word: .\t\tupos: PUNCT\txpos: .\tfeats: _\n",
            "\n",
            "\n",
            "\n",
            "\n"
          ],
          "name": "stdout"
        }
      ]
    },
    {
      "cell_type": "code",
      "metadata": {
        "id": "NMSnIQp_zOeS",
        "colab_type": "code",
        "colab": {
          "base_uri": "https://localhost:8080/",
          "height": 207
        },
        "outputId": "c5f14bc2-85a7-4343-9c61-274c4c9f0319"
      },
      "source": [
        "s = \"It's called the United States Memory Championship.\"\n",
        "doc = trg_processor(s)\n",
        "for sent in doc.sentences:\n",
        "  for word in sent.words: \n",
        "    print(f'word: {word.text}\\t\\tupos: {word.upos}\\txpos: {word.xpos}\\tfeats: {word.feats if word.feats else \"_\"}')\n",
        "  print()"
      ],
      "execution_count": 12,
      "outputs": [
        {
          "output_type": "stream",
          "text": [
            "word: It\t\tupos: PRON\txpos: PRP\tfeats: Case=Nom|Gender=Neut|Number=Sing|Person=3|PronType=Prs\n",
            "word: 's\t\tupos: AUX\txpos: VBZ\tfeats: Mood=Ind|Number=Sing|Person=3|Tense=Pres|VerbForm=Fin\n",
            "word: called\t\tupos: VERB\txpos: VBN\tfeats: Tense=Past|VerbForm=Part|Voice=Pass\n",
            "word: the\t\tupos: DET\txpos: DT\tfeats: Definite=Def|PronType=Art\n",
            "word: United\t\tupos: PROPN\txpos: NNP\tfeats: Number=Sing\n",
            "word: States\t\tupos: PROPN\txpos: NNP\tfeats: Number=Sing\n",
            "word: Memory\t\tupos: PROPN\txpos: NNP\tfeats: Number=Sing\n",
            "word: Championship\t\tupos: PROPN\txpos: NNP\tfeats: Number=Sing\n",
            "word: .\t\tupos: PUNCT\txpos: .\tfeats: _\n",
            "\n"
          ],
          "name": "stdout"
        }
      ]
    },
    {
      "cell_type": "code",
      "metadata": {
        "id": "dSuZZ9Iu0rAS",
        "colab_type": "code",
        "colab": {
          "base_uri": "https://localhost:8080/",
          "height": 717
        },
        "outputId": "6877ef87-8c51-4aad-9135-c7600b8ec303"
      },
      "source": [
        "s = 'Sie übernimmt Kontrolle über diese Zellen und verwandelt sie in Virenfabriken, die platzen alle, eine riesige Bakteriengroßfamilie, die nun alle sterben, weil Viren aus ihren Eingeweiden strömen, und die Viren übernehmen das Bakterium.'\n",
        "doc = src_processor(s)\n",
        "for sent in doc.sentences:\n",
        "  for word in sent.words: \n",
        "    print(f'word: {word.text}\\t\\tupos: {word.upos}\\txpos: {word.xpos}\\tfeats: {word.feats if word.feats else \"_\"}')\n",
        "  print()"
      ],
      "execution_count": 89,
      "outputs": [
        {
          "output_type": "stream",
          "text": [
            "word: Sie\t\tupos: PRON\txpos: PPER\tfeats: Case=Nom|Gender=Fem|Number=Sing|Person=3|PronType=Prs\n",
            "word: übernimmt\t\tupos: VERB\txpos: VVFIN\tfeats: Mood=Ind|Number=Sing|Person=3|Tense=Pres|VerbForm=Fin\n",
            "word: Kontrolle\t\tupos: NOUN\txpos: NN\tfeats: Case=Acc|Gender=Fem|Number=Sing\n",
            "word: über\t\tupos: ADP\txpos: APPR\tfeats: _\n",
            "word: diese\t\tupos: PRON\txpos: PDAT\tfeats: Case=Acc|Gender=Fem|Number=Plur|PronType=Dem\n",
            "word: Zellen\t\tupos: NOUN\txpos: NN\tfeats: Case=Acc|Gender=Fem|Number=Plur\n",
            "word: und\t\tupos: CCONJ\txpos: KON\tfeats: _\n",
            "word: verwandelt\t\tupos: VERB\txpos: VVFIN\tfeats: Mood=Ind|Number=Sing|Person=3|Tense=Pres|VerbForm=Fin\n",
            "word: sie\t\tupos: PRON\txpos: PPER\tfeats: Case=Acc|Number=Plur|Person=3|PronType=Prs\n",
            "word: in\t\tupos: ADP\txpos: APPR\tfeats: _\n",
            "word: Virenfabriken\t\tupos: NOUN\txpos: NN\tfeats: Case=Dat|Gender=Fem|Number=Plur\n",
            "word: ,\t\tupos: PUNCT\txpos: $,\tfeats: _\n",
            "word: die\t\tupos: PRON\txpos: PRELS\tfeats: Case=Nom|Number=Plur|PronType=Rel\n",
            "word: platzen\t\tupos: VERB\txpos: VVFIN\tfeats: Mood=Ind|Number=Plur|Person=3|Tense=Pres|VerbForm=Fin\n",
            "word: alle\t\tupos: PRON\txpos: PIS\tfeats: Case=Nom|Definite=Ind|Number=Plur|PronType=Ind\n",
            "word: ,\t\tupos: PUNCT\txpos: $,\tfeats: _\n",
            "word: eine\t\tupos: DET\txpos: ART\tfeats: Case=Acc|Definite=Ind|Gender=Fem|Number=Sing|PronType=Art\n",
            "word: riesige\t\tupos: ADJ\txpos: ADJA\tfeats: Case=Acc|Gender=Fem|Number=Sing\n",
            "word: Bakteriengroßfamilie\t\tupos: NOUN\txpos: NN\tfeats: Case=Acc|Gender=Fem|Number=Sing\n",
            "word: ,\t\tupos: PUNCT\txpos: $,\tfeats: _\n",
            "word: die\t\tupos: PRON\txpos: PRELS\tfeats: Case=Nom|Gender=Fem|Number=Sing|PronType=Rel\n",
            "word: nun\t\tupos: ADV\txpos: ADV\tfeats: _\n",
            "word: alle\t\tupos: PRON\txpos: PIS\tfeats: Case=Acc|Definite=Ind|Number=Plur|PronType=Ind\n",
            "word: sterben\t\tupos: VERB\txpos: VVFIN\tfeats: VerbForm=Fin\n",
            "word: ,\t\tupos: PUNCT\txpos: $,\tfeats: _\n",
            "word: weil\t\tupos: SCONJ\txpos: KOUS\tfeats: _\n",
            "word: Viren\t\tupos: NOUN\txpos: NN\tfeats: Case=Nom|Gender=Masc|Number=Plur\n",
            "word: aus\t\tupos: ADP\txpos: APPR\tfeats: _\n",
            "word: ihren\t\tupos: DET\txpos: PPOSAT\tfeats: Case=Dat|Gender=Neut|Number=Plur|Poss=Yes\n",
            "word: Eingeweiden\t\tupos: NOUN\txpos: NN\tfeats: Case=Dat|Gender=Neut|Number=Plur\n",
            "word: strömen\t\tupos: VERB\txpos: VVFIN\tfeats: Mood=Ind|Number=Plur|Person=3|Tense=Pres|VerbForm=Fin\n",
            "word: ,\t\tupos: PUNCT\txpos: $,\tfeats: _\n",
            "word: und\t\tupos: CCONJ\txpos: KON\tfeats: _\n",
            "word: die\t\tupos: DET\txpos: ART\tfeats: Case=Nom|Definite=Def|Gender=Masc|Number=Plur|PronType=Art\n",
            "word: Viren\t\tupos: NOUN\txpos: NN\tfeats: Case=Nom|Gender=Masc|Number=Plur\n",
            "word: übernehmen\t\tupos: VERB\txpos: VVFIN\tfeats: Mood=Ind|Number=Plur|Person=3|Tense=Pres|VerbForm=Fin\n",
            "word: das\t\tupos: DET\txpos: ART\tfeats: Case=Acc|Definite=Def|Gender=Neut|Number=Sing|PronType=Art\n",
            "word: Bakterium\t\tupos: NOUN\txpos: NN\tfeats: Case=Acc|Gender=Neut|Number=Sing\n",
            "word: .\t\tupos: PUNCT\txpos: $.\tfeats: _\n",
            "\n"
          ],
          "name": "stdout"
        }
      ]
    },
    {
      "cell_type": "code",
      "metadata": {
        "id": "jU2Y2PrSwEPC",
        "colab_type": "code",
        "colab": {
          "base_uri": "https://localhost:8080/",
          "height": 1000
        },
        "outputId": "fad14a9a-58a5-42df-a0b5-66a6279e7136"
      },
      "source": [
        "# for sentence in train_de[:5]:\n",
        "#   doc = nlp_de(sentence)\n",
        "#   for sent in doc.sentences:\n",
        "#     for word in sent.words: \n",
        "#       print(f'word: {word.text}\\t\\tupos: {word.upos}\\txpos: {word.xpos}\\tfeats: {word.feats if word.feats else \"_\"}')\n",
        "#     print()\n",
        "#   print()\n",
        "#   print()\n",
        "#   print()"
      ],
      "execution_count": null,
      "outputs": [
        {
          "output_type": "stream",
          "text": [
            "word: David\t\tupos: PROPN\txpos: NE\tfeats: Case=Nom|Gender=Masc|Number=Sing\n",
            "word: Gallo\t\tupos: PROPN\txpos: NE\tfeats: Case=Nom|Gender=Masc|Number=Sing\n",
            "word: :\t\tupos: PUNCT\txpos: $.\tfeats: _\n",
            "word: Das\t\tupos: PRON\txpos: PDS\tfeats: Case=Nom|Gender=Neut|Number=Sing|PronType=Dem\n",
            "word: ist\t\tupos: AUX\txpos: VAFIN\tfeats: Mood=Ind|Number=Sing|Person=3|Tense=Pres|VerbForm=Fin\n",
            "word: Bill\t\tupos: PROPN\txpos: NE\tfeats: Case=Nom|Gender=Masc|Number=Sing\n",
            "word: Lange\t\tupos: PROPN\txpos: NE\tfeats: Case=Nom|Gender=Masc|Number=Sing\n",
            "word: .\t\tupos: PUNCT\txpos: $.\tfeats: _\n",
            "\n",
            "word: Ich\t\tupos: PRON\txpos: PPER\tfeats: Case=Nom|Number=Sing|Person=1|PronType=Prs\n",
            "word: bin\t\tupos: AUX\txpos: VAFIN\tfeats: Mood=Ind|Number=Sing|Person=1|Tense=Pres|VerbForm=Fin\n",
            "word: Dave\t\tupos: PROPN\txpos: NE\tfeats: Case=Nom|Gender=Masc|Number=Sing\n",
            "word: Gallo\t\tupos: PROPN\txpos: NE\tfeats: Case=Acc|Gender=Masc|Number=Sing\n",
            "word: .\t\tupos: PUNCT\txpos: $.\tfeats: _\n",
            "\n",
            "\n",
            "\n",
            "\n",
            "word: Wir\t\tupos: PRON\txpos: PPER\tfeats: Case=Nom|Number=Plur|Person=1|PronType=Prs\n",
            "word: werden\t\tupos: AUX\txpos: VAFIN\tfeats: Mood=Ind|Number=Plur|Person=1|Tense=Pres|VerbForm=Fin\n",
            "word: Ihnen\t\tupos: PRON\txpos: PPER\tfeats: Case=Dat|Number=Plur|Person=3|PronType=Prs\n",
            "word: einige\t\tupos: PRON\txpos: PIAT\tfeats: Case=Acc|Definite=Ind|Gender=Fem|Number=Plur|PronType=Ind\n",
            "word: Geschichten\t\tupos: NOUN\txpos: NN\tfeats: Case=Acc|Gender=Fem|Number=Plur\n",
            "word: über\t\tupos: ADP\txpos: APPR\tfeats: _\n",
            "word: das\t\tupos: DET\txpos: ART\tfeats: Case=Acc|Definite=Def|Gender=Neut|Number=Sing|PronType=Art\n",
            "word: Meer\t\tupos: NOUN\txpos: NN\tfeats: Case=Acc|Gender=Neut|Number=Sing\n",
            "word: in\t\tupos: ADP\txpos: APPR\tfeats: _\n",
            "word: Videoform\t\tupos: NOUN\txpos: NN\tfeats: Case=Dat|Gender=Fem|Number=Sing\n",
            "word: erzählen\t\tupos: VERB\txpos: VVINF\tfeats: VerbForm=Inf\n",
            "word: .\t\tupos: PUNCT\txpos: $.\tfeats: _\n",
            "\n",
            "\n",
            "\n",
            "\n",
            "word: Wir\t\tupos: PRON\txpos: PPER\tfeats: Case=Nom|Number=Plur|Person=1|PronType=Prs\n",
            "word: haben\t\tupos: VERB\txpos: VAFIN\tfeats: Mood=Ind|Number=Plur|Person=1|Tense=Pres|VerbForm=Fin\n",
            "word: ein\t\tupos: DET\txpos: ART\tfeats: Case=Acc|Definite=Ind|Gender=Neut|Number=Sing|PronType=Art\n",
            "word: paar\t\tupos: PRON\txpos: PIS\tfeats: Definite=Ind|PronType=Ind\n",
            "word: der\t\tupos: DET\txpos: ART\tfeats: Case=Gen|Definite=Def|Gender=Fem|Number=Plur|PronType=Art\n",
            "word: unglaublichsten\t\tupos: ADJ\txpos: ADJA\tfeats: Case=Gen|Gender=Fem|Number=Plur\n",
            "word: Aufnahmen\t\tupos: NOUN\txpos: NN\tfeats: Case=Gen|Gender=Fem|Number=Plur\n",
            "word: der\t\tupos: DET\txpos: ART\tfeats: Case=Gen|Definite=Def|Gender=Fem|Number=Sing|PronType=Art\n",
            "word: Titanic\t\tupos: PROPN\txpos: NE\tfeats: Case=Gen|Gender=Fem|Number=Sing\n",
            "word: ,\t\tupos: PUNCT\txpos: $,\tfeats: _\n",
            "word: die\t\tupos: PRON\txpos: PRELS\tfeats: Case=Acc|Gender=Fem|Number=Sing|PronType=Rel\n",
            "word: man\t\tupos: PRON\txpos: PIS\tfeats: Case=Nom|Definite=Ind|Number=Sing|PronType=Ind\n",
            "word: je\t\tupos: ADV\txpos: ADV\tfeats: _\n",
            "word: gesehen\t\tupos: VERB\txpos: VVPP\tfeats: VerbForm=Part\n",
            "word: hat\t\tupos: AUX\txpos: VAFIN\tfeats: Mood=Ind|Number=Sing|Person=3|Tense=Pres|VerbForm=Fin\n",
            "word: ,\t\tupos: PUNCT\txpos: $,\tfeats: _\n",
            "word: ,\t\tupos: PUNCT\txpos: $,\tfeats: _\n",
            "word: und\t\tupos: CCONJ\txpos: KON\tfeats: _\n",
            "word: wir\t\tupos: PRON\txpos: PPER\tfeats: Case=Nom|Number=Plur|Person=1|PronType=Prs\n",
            "word: werden\t\tupos: AUX\txpos: VAFIN\tfeats: Mood=Ind|Number=Plur|Person=1|Tense=Pres|VerbForm=Fin\n",
            "word: Ihnen\t\tupos: PRON\txpos: PPER\tfeats: Case=Dat|Number=Plur|Person=3|PronType=Prs\n",
            "word: nichts\t\tupos: PRON\txpos: PIS\tfeats: Definite=Ind|PronType=Ind\n",
            "word: davon\t\tupos: ADV\txpos: PAV\tfeats: _\n",
            "word: zeigen\t\tupos: VERB\txpos: VVINF\tfeats: VerbForm=Inf\n",
            "word: .\t\tupos: PUNCT\txpos: $.\tfeats: _\n",
            "\n",
            "\n",
            "\n",
            "\n",
            "word: Die\t\tupos: DET\txpos: ART\tfeats: Case=Nom|Definite=Def|Gender=Fem|Number=Sing|PronType=Art\n",
            "word: Wahrheit\t\tupos: NOUN\txpos: NN\tfeats: Case=Nom|Gender=Fem|Number=Sing\n",
            "word: ist\t\tupos: AUX\txpos: VAFIN\tfeats: Mood=Ind|Number=Sing|Person=3|Tense=Pres|VerbForm=Fin\n",
            "word: ,\t\tupos: PUNCT\txpos: $,\tfeats: _\n",
            "word: dass\t\tupos: SCONJ\txpos: KOUS\tfeats: _\n",
            "word: die\t\tupos: DET\txpos: ART\tfeats: Case=Nom|Definite=Def|Gender=Fem|Number=Sing|PronType=Art\n",
            "word: Titanic\t\tupos: PROPN\txpos: NE\tfeats: Case=Nom|Gender=Fem|Number=Sing\n",
            "word: –\t\tupos: PUNCT\txpos: $,\tfeats: _\n",
            "word: obwohl\t\tupos: SCONJ\txpos: KOUS\tfeats: _\n",
            "word: sie\t\tupos: PRON\txpos: PPER\tfeats: Case=Nom|Gender=Fem|Number=Sing|Person=3|PronType=Prs\n",
            "word: alle\t\tupos: PRON\txpos: PIAT\tfeats: Case=Acc|Definite=Ind|Gender=Masc|Number=Plur|PronType=Ind\n",
            "word: Kinokassenrekorde\t\tupos: NOUN\txpos: NN\tfeats: Case=Acc|Gender=Masc|Number=Plur\n",
            "word: bricht\t\tupos: VERB\txpos: VVFIN\tfeats: Mood=Ind|Number=Sing|Person=3|Tense=Pres|VerbForm=Fin\n",
            "word: –\t\tupos: PUNCT\txpos: $,\tfeats: _\n",
            "word: nicht\t\tupos: PART\txpos: PTKNEG\tfeats: Polarity=Neg\n",
            "word: gerade\t\tupos: ADV\txpos: ADV\tfeats: _\n",
            "word: die\t\tupos: DET\txpos: ART\tfeats: Case=Nom|Definite=Def|Gender=Fem|Number=Sing|PronType=Art\n",
            "word: aufregendste\t\tupos: ADJ\txpos: ADJA\tfeats: Case=Nom|Gender=Fem|Number=Sing\n",
            "word: Geschichte\t\tupos: NOUN\txpos: NN\tfeats: Case=Nom|Gender=Fem|Number=Sing\n",
            "word: von\t\tupos: ADP\txpos: APPR\tfeats: _\n",
            "word: dem\t\tupos: DET\txpos: ART\tfeats: Case=Dat|Definite=Def|Gender=Neut|Number=Sing|PronType=Art\n",
            "word: Meer\t\tupos: NOUN\txpos: NN\tfeats: Case=Dat|Gender=Neut|Number=Sing\n",
            "word: ist\t\tupos: AUX\txpos: VAFIN\tfeats: Mood=Ind|Number=Sing|Person=3|Tense=Pres|VerbForm=Fin\n",
            "word: .\t\tupos: PUNCT\txpos: $.\tfeats: _\n",
            "\n",
            "\n",
            "\n",
            "\n",
            "word: Ich\t\tupos: PRON\txpos: PPER\tfeats: Case=Nom|Number=Sing|Person=1|PronType=Prs\n",
            "word: denke\t\tupos: VERB\txpos: VVFIN\tfeats: Mood=Ind|Number=Sing|Person=1|Tense=Pres|VerbForm=Fin\n",
            "word: ,\t\tupos: PUNCT\txpos: $,\tfeats: _\n",
            "word: das\t\tupos: DET\txpos: ART\tfeats: Case=Acc|Definite=Def|Gender=Neut|Number=Sing|PronType=Art\n",
            "word: Problem\t\tupos: NOUN\txpos: NN\tfeats: Case=Acc|Gender=Neut|Number=Sing\n",
            "word: ist\t\tupos: AUX\txpos: VAFIN\tfeats: Mood=Ind|Number=Sing|Person=3|Tense=Pres|VerbForm=Fin\n",
            "word: ,\t\tupos: PUNCT\txpos: $,\tfeats: _\n",
            "word: dass\t\tupos: SCONJ\txpos: KOUS\tfeats: _\n",
            "word: wir\t\tupos: PRON\txpos: PPER\tfeats: Case=Nom|Number=Plur|Person=1|PronType=Prs\n",
            "word: das\t\tupos: DET\txpos: ART\tfeats: Case=Acc|Definite=Def|Gender=Neut|Number=Sing|PronType=Art\n",
            "word: Meer\t\tupos: NOUN\txpos: NN\tfeats: Case=Acc|Gender=Neut|Number=Sing\n",
            "word: für\t\tupos: ADP\txpos: APPR\tfeats: _\n",
            "word: zu\t\tupos: ADV\txpos: PTKA\tfeats: _\n",
            "word: selbstverständlich\t\tupos: ADV\txpos: ADJD\tfeats: _\n",
            "word: halten\t\tupos: VERB\txpos: VVFIN\tfeats: VerbForm=Inf\n",
            "word: .\t\tupos: PUNCT\txpos: $.\tfeats: _\n",
            "\n",
            "\n",
            "\n",
            "\n"
          ],
          "name": "stdout"
        }
      ]
    }
  ]
}